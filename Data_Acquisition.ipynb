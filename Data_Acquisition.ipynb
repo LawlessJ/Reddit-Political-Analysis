{
 "cells": [
  {
   "cell_type": "markdown",
   "metadata": {},
   "source": [
    "## Subreddit Data Acquisition, Utilizing Python Reddit API Wrapper (PRAW)\n",
    "---\n",
    "\n",
    "Framework is from local repo from Heather's class involving PRAW. Some noteable changes:\n",
    "\n",
    "- Data collected from new, top and controversial filters. \n",
    "\n",
    "- A search of gilded users from each subreddit at the time was also added. It does not confirm that any given **post** is gilded, but does confirm that the id of a post belongs to a gilded user (There are very few of these). \n",
    "\n",
    "- Data was drawn multiple times, then combined into one larger dataframe, deleting duplicate rows. This provided a challenge - by just using drop_duplicates, many actual duplicates were not captured, as the number of comments or \"karma\" score would change for the same post over time, causing the dataframe to keep essentially the same row of information. Therefore, the decision was made to drop duplicates that share the same title and id. I decided to keep the last entry, so as to allow updated comments/scores to be reflected. This may lead to some slight number of errors in indicated who is a \"gilded\" member (as that can actually expire after a given time), but I think that the potential error in gild status will be outweighed by a sizeable reduction in error of comment/karma score status.\n",
    "\n",
    "- Data collection was ended on Sunday, October 18. This is intentional, as allowing several days to pass will cause \"new\" data collection to be entirely unseen data. In this way, I will be able to collect clean test data repeatedly to evaluate my model on completely unseen data multiple times."
   ]
  },
  {
   "cell_type": "markdown",
   "metadata": {},
   "source": [
    "**Make a bunch of these, then concat them all together and use pandas' [drop duplicates method](https://pandas.pydata.org/pandas-docs/stable/reference/api/pandas.DataFrame.drop_duplicates.html) to add more data while not repeating data needlessly.**"
   ]
  },
  {
   "cell_type": "code",
   "execution_count": 30,
   "metadata": {},
   "outputs": [],
   "source": [
    "import praw\n",
    "import pandas as pd\n",
    "import requests\n",
    "import time\n",
    "from nltk.sentiment.vader import SentimentIntensityAnalyzer\n",
    "from nltk.corpus import stopwords\n",
    "from nltk.stem import WordNetLemmatizer\n",
    "from nltk.tokenize import word_tokenize"
   ]
  },
  {
   "cell_type": "markdown",
   "metadata": {},
   "source": [
    "#### Provide credentials so you can use the wrapper"
   ]
  },
  {
   "cell_type": "code",
   "execution_count": 3,
   "metadata": {},
   "outputs": [],
   "source": [
    "#The info below is provided to the wrapper to pull from the API.\n",
    "\n",
    "reddit = praw.Reddit(client_id = 'REDACTED',     #this is that personal use script key\n",
    "                     client_secret = 'REDACTED', #this is that secret key\n",
    "                     user_agent = 'reddit_api',    #Whatever name you gave your application\n",
    "                     username = 'REDACTED',      #your Reddit user name\n",
    "                     password = 'REDACTED')      #your Reddit password"
   ]
  },
  {
   "cell_type": "markdown",
   "metadata": {},
   "source": [
    "#### Create variable names for the subreddits you want to pull from"
   ]
  },
  {
   "cell_type": "code",
   "execution_count": 4,
   "metadata": {},
   "outputs": [],
   "source": [
    "subreddit = reddit.subreddit('Conservative')    #set to variable name, pick the name of a subreddit"
   ]
  },
  {
   "cell_type": "code",
   "execution_count": 5,
   "metadata": {},
   "outputs": [],
   "source": [
    "#The liberal subreddit turns out to be far less active, so I am utilizing a new subreddit for analysis.\n",
    "#altsubreddit = reddit.subreddit('Liberal')\n",
    "altsubreddit = reddit.subreddit('Progressive')"
   ]
  },
  {
   "cell_type": "code",
   "execution_count": 85,
   "metadata": {},
   "outputs": [
    {
     "data": {
      "text/html": [
       "<div>\n",
       "<style scoped>\n",
       "    .dataframe tbody tr th:only-of-type {\n",
       "        vertical-align: middle;\n",
       "    }\n",
       "\n",
       "    .dataframe tbody tr th {\n",
       "        vertical-align: top;\n",
       "    }\n",
       "\n",
       "    .dataframe thead th {\n",
       "        text-align: right;\n",
       "    }\n",
       "</style>\n",
       "<table border=\"1\" class=\"dataframe\">\n",
       "  <thead>\n",
       "    <tr style=\"text-align: right;\">\n",
       "      <th></th>\n",
       "      <th>title</th>\n",
       "      <th>score</th>\n",
       "      <th>id</th>\n",
       "      <th>url</th>\n",
       "      <th>comms_num</th>\n",
       "      <th>created</th>\n",
       "      <th>body</th>\n",
       "      <th>subreddit</th>\n",
       "      <th>gilded_user</th>\n",
       "    </tr>\n",
       "  </thead>\n",
       "  <tbody>\n",
       "    <tr>\n",
       "      <th>4144</th>\n",
       "      <td>Presidential Debate Thread - Day 1</td>\n",
       "      <td>481</td>\n",
       "      <td>j2bxs0</td>\n",
       "      <td>https://www.reddit.com/r/Conservative/comments...</td>\n",
       "      <td>21909</td>\n",
       "      <td>1.601455e+09</td>\n",
       "      <td>The first presidential debate between Presiden...</td>\n",
       "      <td>Conservative</td>\n",
       "      <td>0</td>\n",
       "    </tr>\n",
       "    <tr>\n",
       "      <th>2257</th>\n",
       "      <td>Justice Ruth Bader Ginsburg, Champion Of Gende...</td>\n",
       "      <td>18126</td>\n",
       "      <td>ivh84e</td>\n",
       "      <td>https://www.npr.org/2020/09/18/100306972/justi...</td>\n",
       "      <td>11061</td>\n",
       "      <td>1.600501e+09</td>\n",
       "      <td>NaN</td>\n",
       "      <td>Conservative</td>\n",
       "      <td>0</td>\n",
       "    </tr>\n",
       "    <tr>\n",
       "      <th>2265</th>\n",
       "      <td>Donald Trump and wife Melania test positive fo...</td>\n",
       "      <td>14185</td>\n",
       "      <td>j3oh32</td>\n",
       "      <td>https://news.sky.com/story/donald-trump-and-wi...</td>\n",
       "      <td>6748</td>\n",
       "      <td>1.601644e+09</td>\n",
       "      <td>NaN</td>\n",
       "      <td>Conservative</td>\n",
       "      <td>0</td>\n",
       "    </tr>\n",
       "    <tr>\n",
       "      <th>2254</th>\n",
       "      <td>Trump calls for delay to 2020 US election</td>\n",
       "      <td>21393</td>\n",
       "      <td>i0ltok</td>\n",
       "      <td>https://www.bbc.com/news/world-us-canada-53597...</td>\n",
       "      <td>6121</td>\n",
       "      <td>1.596144e+09</td>\n",
       "      <td>NaN</td>\n",
       "      <td>Conservative</td>\n",
       "      <td>0</td>\n",
       "    </tr>\n",
       "    <tr>\n",
       "      <th>2274</th>\n",
       "      <td>The_donald - as well as 2000 other subs - have...</td>\n",
       "      <td>10582</td>\n",
       "      <td>hi426n</td>\n",
       "      <td>https://www.reddit.com/r/Conservative/comments...</td>\n",
       "      <td>4380</td>\n",
       "      <td>1.593480e+09</td>\n",
       "      <td>We're seeing a few submissions about this. As ...</td>\n",
       "      <td>Conservative</td>\n",
       "      <td>0</td>\n",
       "    </tr>\n",
       "  </tbody>\n",
       "</table>\n",
       "</div>"
      ],
      "text/plain": [
       "                                                  title  score      id  \\\n",
       "4144                 Presidential Debate Thread - Day 1    481  j2bxs0   \n",
       "2257  Justice Ruth Bader Ginsburg, Champion Of Gende...  18126  ivh84e   \n",
       "2265  Donald Trump and wife Melania test positive fo...  14185  j3oh32   \n",
       "2254          Trump calls for delay to 2020 US election  21393  i0ltok   \n",
       "2274  The_donald - as well as 2000 other subs - have...  10582  hi426n   \n",
       "\n",
       "                                                    url  comms_num  \\\n",
       "4144  https://www.reddit.com/r/Conservative/comments...      21909   \n",
       "2257  https://www.npr.org/2020/09/18/100306972/justi...      11061   \n",
       "2265  https://news.sky.com/story/donald-trump-and-wi...       6748   \n",
       "2254  https://www.bbc.com/news/world-us-canada-53597...       6121   \n",
       "2274  https://www.reddit.com/r/Conservative/comments...       4380   \n",
       "\n",
       "           created                                               body  \\\n",
       "4144  1.601455e+09  The first presidential debate between Presiden...   \n",
       "2257  1.600501e+09                                                NaN   \n",
       "2265  1.601644e+09                                                NaN   \n",
       "2254  1.596144e+09                                                NaN   \n",
       "2274  1.593480e+09  We're seeing a few submissions about this. As ...   \n",
       "\n",
       "         subreddit  gilded_user  \n",
       "4144  Conservative            0  \n",
       "2257  Conservative            0  \n",
       "2265  Conservative            0  \n",
       "2254  Conservative            0  \n",
       "2274  Conservative            0  "
      ]
     },
     "execution_count": 85,
     "metadata": {},
     "output_type": "execute_result"
    }
   ],
   "source": [
    "sortsalot = combined.sort_values(by = 'comms_num', ascending = False)\n",
    "sortsalot.head()"
   ]
  },
  {
   "cell_type": "markdown",
   "metadata": {},
   "source": [
    "#### Specify what type of posts from those subreddits you want to pull\n",
    "\n",
    "Each subreddit has five different ways of organizing the topics created by redditors: `.hot`, `.new`, `.controversial`, `.top`, and `.gilded`. You can also use `.search(\"SEARCH_KEYWORDS\")` to get only results matching an engine search."
   ]
  },
  {
   "cell_type": "markdown",
   "metadata": {},
   "source": [
    "The following lines of code were utilized to gather new data on reddit"
   ]
  },
  {
   "cell_type": "code",
   "execution_count": 8,
   "metadata": {},
   "outputs": [],
   "source": [
    "#You can only pull 1000 at a time\n",
    "#subreddit_new = subreddit.new(limit = 1000)\n",
    "subreddit_new = subreddit.top(limit = 1000)\n",
    "#subreddit_new = subreddit.controversial(limit = 1000)\n"
   ]
  },
  {
   "cell_type": "code",
   "execution_count": 9,
   "metadata": {},
   "outputs": [],
   "source": [
    "subreddit_new_2 = altsubreddit.new(limit = 1000)\n",
    "#subreddit_new_2 = altsubreddit.top(limit = 1000)\n",
    "#subreddit_new_2 = altsubreddit.controversial(limit = 1000)"
   ]
  },
  {
   "cell_type": "code",
   "execution_count": 10,
   "metadata": {},
   "outputs": [],
   "source": [
    "cons_gilds = []"
   ]
  },
  {
   "cell_type": "code",
   "execution_count": 11,
   "metadata": {},
   "outputs": [],
   "source": [
    "for item in subreddit.gilded():\n",
    "    cons_gilds.append(item.id)"
   ]
  },
  {
   "cell_type": "code",
   "execution_count": 12,
   "metadata": {},
   "outputs": [
    {
     "data": {
      "text/plain": [
       "100"
      ]
     },
     "execution_count": 12,
     "metadata": {},
     "output_type": "execute_result"
    }
   ],
   "source": [
    "len(cons_gilds)"
   ]
  },
  {
   "cell_type": "code",
   "execution_count": 13,
   "metadata": {},
   "outputs": [],
   "source": [
    "prog_gilds = []"
   ]
  },
  {
   "cell_type": "code",
   "execution_count": 14,
   "metadata": {},
   "outputs": [],
   "source": [
    "for item in altsubreddit.gilded():\n",
    "    prog_gilds.append(item.id)"
   ]
  },
  {
   "cell_type": "code",
   "execution_count": 15,
   "metadata": {},
   "outputs": [
    {
     "data": {
      "text/plain": [
       "48"
      ]
     },
     "execution_count": 15,
     "metadata": {},
     "output_type": "execute_result"
    }
   ],
   "source": [
    "len(prog_gilds)"
   ]
  },
  {
   "cell_type": "markdown",
   "metadata": {},
   "source": [
    "#### Create a topics dictionary:"
   ]
  },
  {
   "cell_type": "code",
   "execution_count": 16,
   "metadata": {},
   "outputs": [],
   "source": [
    "topics_dict = { \"title\":[],\n",
    "                \"score\":[],\n",
    "                \"id\":[],\n",
    "                \"url\":[], \n",
    "                \"comms_num\": [],\n",
    "                \"created\": [],\n",
    "                \"body\":[]}\n",
    "\n",
    "#Use a for loop to take the posts gathered by the wrapper and place them into a dictionary.\n",
    "\n",
    "for item in subreddit_new:\n",
    "    topics_dict[\"title\"].append(item.title)\n",
    "    topics_dict[\"score\"].append(item.score)\n",
    "    topics_dict[\"id\"].append(item.id)\n",
    "    topics_dict[\"url\"].append(item.url)\n",
    "    topics_dict[\"comms_num\"].append(item.num_comments)\n",
    "    topics_dict[\"created\"].append(item.created)\n",
    "    topics_dict[\"body\"].append(item.selftext)"
   ]
  },
  {
   "cell_type": "code",
   "execution_count": 17,
   "metadata": {},
   "outputs": [],
   "source": [
    "topics_dict2 = { \"title\":[],\n",
    "                \"score\":[],\n",
    "                \"id\":[],\n",
    "                \"url\":[], \n",
    "                \"comms_num\": [],\n",
    "                \"created\": [],\n",
    "                \"body\":[]}\n",
    "\n",
    "#Use a for loop to take the posts gathered by the wrapper and place them into a dictionary.\n",
    "\n",
    "for item in subreddit_new_2:\n",
    "    topics_dict2[\"title\"].append(item.title)\n",
    "    topics_dict2[\"score\"].append(item.score)\n",
    "    topics_dict2[\"id\"].append(item.id)\n",
    "    topics_dict2[\"url\"].append(item.url)\n",
    "    topics_dict2[\"comms_num\"].append(item.num_comments)\n",
    "    topics_dict2[\"created\"].append(item.created)\n",
    "    topics_dict2[\"body\"].append(item.selftext)"
   ]
  },
  {
   "cell_type": "markdown",
   "metadata": {},
   "source": [
    "#### Convert the dictionaries into DataFrames. "
   ]
  },
  {
   "cell_type": "code",
   "execution_count": 20,
   "metadata": {
    "scrolled": true
   },
   "outputs": [],
   "source": [
    "df = pd.DataFrame(topics_dict)"
   ]
  },
  {
   "cell_type": "code",
   "execution_count": 21,
   "metadata": {},
   "outputs": [],
   "source": [
    "df2 = pd.DataFrame(topics_dict2)"
   ]
  },
  {
   "cell_type": "code",
   "execution_count": 22,
   "metadata": {},
   "outputs": [
    {
     "data": {
      "text/html": [
       "<div>\n",
       "<style scoped>\n",
       "    .dataframe tbody tr th:only-of-type {\n",
       "        vertical-align: middle;\n",
       "    }\n",
       "\n",
       "    .dataframe tbody tr th {\n",
       "        vertical-align: top;\n",
       "    }\n",
       "\n",
       "    .dataframe thead th {\n",
       "        text-align: right;\n",
       "    }\n",
       "</style>\n",
       "<table border=\"1\" class=\"dataframe\">\n",
       "  <thead>\n",
       "    <tr style=\"text-align: right;\">\n",
       "      <th></th>\n",
       "      <th>title</th>\n",
       "      <th>score</th>\n",
       "      <th>id</th>\n",
       "      <th>url</th>\n",
       "      <th>comms_num</th>\n",
       "      <th>created</th>\n",
       "      <th>body</th>\n",
       "    </tr>\n",
       "  </thead>\n",
       "  <tbody>\n",
       "    <tr>\n",
       "      <th>0</th>\n",
       "      <td>Opinion: Patriotism and Voting in the Workplac...</td>\n",
       "      <td>1</td>\n",
       "      <td>jdmcs7</td>\n",
       "      <td>https://www.sasentinel.com/opinion-patriotism-...</td>\n",
       "      <td>0</td>\n",
       "      <td>1.603078e+09</td>\n",
       "      <td></td>\n",
       "    </tr>\n",
       "    <tr>\n",
       "      <th>1</th>\n",
       "      <td>Ex-prisoner-turned-rapper fights for justice f...</td>\n",
       "      <td>34</td>\n",
       "      <td>jdjpxm</td>\n",
       "      <td>https://www.aljazeera.com/features/2020/10/16/...</td>\n",
       "      <td>1</td>\n",
       "      <td>1.603069e+09</td>\n",
       "      <td></td>\n",
       "    </tr>\n",
       "    <tr>\n",
       "      <th>2</th>\n",
       "      <td>Are their any studies and/or statistics that g...</td>\n",
       "      <td>22</td>\n",
       "      <td>jdc9h6</td>\n",
       "      <td>https://www.reddit.com/r/progressive/comments/...</td>\n",
       "      <td>7</td>\n",
       "      <td>1.603036e+09</td>\n",
       "      <td>I’m curious how many people believe it. It’s h...</td>\n",
       "    </tr>\n",
       "    <tr>\n",
       "      <th>3</th>\n",
       "      <td>On election coverage, CBS is falling for the s...</td>\n",
       "      <td>135</td>\n",
       "      <td>jd55t9</td>\n",
       "      <td>https://www.mediamatters.org/cbs/election-cove...</td>\n",
       "      <td>9</td>\n",
       "      <td>1.603005e+09</td>\n",
       "      <td></td>\n",
       "    </tr>\n",
       "    <tr>\n",
       "      <th>4</th>\n",
       "      <td>INSIGHT: U.K. Justice System ReformâDigital ...</td>\n",
       "      <td>2</td>\n",
       "      <td>jd4xky</td>\n",
       "      <td>https://news.bloomberglaw.com/us-law-week/insi...</td>\n",
       "      <td>0</td>\n",
       "      <td>1.603004e+09</td>\n",
       "      <td></td>\n",
       "    </tr>\n",
       "  </tbody>\n",
       "</table>\n",
       "</div>"
      ],
      "text/plain": [
       "                                               title  score      id  \\\n",
       "0  Opinion: Patriotism and Voting in the Workplac...      1  jdmcs7   \n",
       "1  Ex-prisoner-turned-rapper fights for justice f...     34  jdjpxm   \n",
       "2  Are their any studies and/or statistics that g...     22  jdc9h6   \n",
       "3  On election coverage, CBS is falling for the s...    135  jd55t9   \n",
       "4  INSIGHT: U.K. Justice System ReformâDigital ...      2  jd4xky   \n",
       "\n",
       "                                                 url  comms_num       created  \\\n",
       "0  https://www.sasentinel.com/opinion-patriotism-...          0  1.603078e+09   \n",
       "1  https://www.aljazeera.com/features/2020/10/16/...          1  1.603069e+09   \n",
       "2  https://www.reddit.com/r/progressive/comments/...          7  1.603036e+09   \n",
       "3  https://www.mediamatters.org/cbs/election-cove...          9  1.603005e+09   \n",
       "4  https://news.bloomberglaw.com/us-law-week/insi...          0  1.603004e+09   \n",
       "\n",
       "                                                body  \n",
       "0                                                     \n",
       "1                                                     \n",
       "2  I’m curious how many people believe it. It’s h...  \n",
       "3                                                     \n",
       "4                                                     "
      ]
     },
     "execution_count": 22,
     "metadata": {},
     "output_type": "execute_result"
    }
   ],
   "source": [
    "df2.head()"
   ]
  },
  {
   "cell_type": "markdown",
   "metadata": {},
   "source": [
    "#### Add a column to each dataframe keep track of which subreddit the data is from"
   ]
  },
  {
   "cell_type": "code",
   "execution_count": 23,
   "metadata": {},
   "outputs": [],
   "source": [
    "df['subreddit'] = \"Conservative\""
   ]
  },
  {
   "cell_type": "code",
   "execution_count": 24,
   "metadata": {
    "scrolled": true
   },
   "outputs": [],
   "source": [
    "df2['subreddit'] = 'Progressive'"
   ]
  },
  {
   "cell_type": "markdown",
   "metadata": {},
   "source": [
    "#### Add that extra column"
   ]
  },
  {
   "cell_type": "markdown",
   "metadata": {},
   "source": [
    "#### Concatenate the 2 dataframes together"
   ]
  },
  {
   "cell_type": "code",
   "execution_count": 25,
   "metadata": {},
   "outputs": [],
   "source": [
    "df_final = pd.concat([df, df2])\n",
    "#df_final = df2"
   ]
  },
  {
   "cell_type": "code",
   "execution_count": 26,
   "metadata": {},
   "outputs": [
    {
     "data": {
      "text/html": [
       "<div>\n",
       "<style scoped>\n",
       "    .dataframe tbody tr th:only-of-type {\n",
       "        vertical-align: middle;\n",
       "    }\n",
       "\n",
       "    .dataframe tbody tr th {\n",
       "        vertical-align: top;\n",
       "    }\n",
       "\n",
       "    .dataframe thead th {\n",
       "        text-align: right;\n",
       "    }\n",
       "</style>\n",
       "<table border=\"1\" class=\"dataframe\">\n",
       "  <thead>\n",
       "    <tr style=\"text-align: right;\">\n",
       "      <th></th>\n",
       "      <th>title</th>\n",
       "      <th>score</th>\n",
       "      <th>id</th>\n",
       "      <th>url</th>\n",
       "      <th>comms_num</th>\n",
       "      <th>created</th>\n",
       "      <th>body</th>\n",
       "      <th>subreddit</th>\n",
       "    </tr>\n",
       "  </thead>\n",
       "  <tbody>\n",
       "    <tr>\n",
       "      <th>0</th>\n",
       "      <td>Thousands of Latinos Gather in Miami For Anti-...</td>\n",
       "      <td>3</td>\n",
       "      <td>jdnapu</td>\n",
       "      <td>https://www.thegatewaypundit.com/2020/10/thous...</td>\n",
       "      <td>1</td>\n",
       "      <td>1.603081e+09</td>\n",
       "      <td></td>\n",
       "      <td>Conservative</td>\n",
       "    </tr>\n",
       "    <tr>\n",
       "      <th>1</th>\n",
       "      <td>Camera Catches the Incredible Moment Dem Rep W...</td>\n",
       "      <td>3</td>\n",
       "      <td>jdn9ta</td>\n",
       "      <td>https://www.conservativenewsdaily.com/camera-c...</td>\n",
       "      <td>0</td>\n",
       "      <td>1.603080e+09</td>\n",
       "      <td></td>\n",
       "      <td>Conservative</td>\n",
       "    </tr>\n",
       "    <tr>\n",
       "      <th>2</th>\n",
       "      <td>New Data Analysis Finds 353 Counties With 1.8 ...</td>\n",
       "      <td>3</td>\n",
       "      <td>jdn6mm</td>\n",
       "      <td>https://www.theepochtimes.com/new-data-analysi...</td>\n",
       "      <td>0</td>\n",
       "      <td>1.603080e+09</td>\n",
       "      <td></td>\n",
       "      <td>Conservative</td>\n",
       "    </tr>\n",
       "    <tr>\n",
       "      <th>3</th>\n",
       "      <td>Meanwhile in New Zealand where their leadershi...</td>\n",
       "      <td>0</td>\n",
       "      <td>jdn5qc</td>\n",
       "      <td>https://www.reddit.com/r/sports/comments/jdgrk...</td>\n",
       "      <td>3</td>\n",
       "      <td>1.603080e+09</td>\n",
       "      <td></td>\n",
       "      <td>Conservative</td>\n",
       "    </tr>\n",
       "    <tr>\n",
       "      <th>4</th>\n",
       "      <td>Women's March sign: \"Trump is an unstable penis!\"</td>\n",
       "      <td>5</td>\n",
       "      <td>jdn59s</td>\n",
       "      <td>https://hotair.com/archives/karen-townsend/202...</td>\n",
       "      <td>3</td>\n",
       "      <td>1.603080e+09</td>\n",
       "      <td></td>\n",
       "      <td>Conservative</td>\n",
       "    </tr>\n",
       "  </tbody>\n",
       "</table>\n",
       "</div>"
      ],
      "text/plain": [
       "                                               title  score      id  \\\n",
       "0  Thousands of Latinos Gather in Miami For Anti-...      3  jdnapu   \n",
       "1  Camera Catches the Incredible Moment Dem Rep W...      3  jdn9ta   \n",
       "2  New Data Analysis Finds 353 Counties With 1.8 ...      3  jdn6mm   \n",
       "3  Meanwhile in New Zealand where their leadershi...      0  jdn5qc   \n",
       "4  Women's March sign: \"Trump is an unstable penis!\"      5  jdn59s   \n",
       "\n",
       "                                                 url  comms_num       created  \\\n",
       "0  https://www.thegatewaypundit.com/2020/10/thous...          1  1.603081e+09   \n",
       "1  https://www.conservativenewsdaily.com/camera-c...          0  1.603080e+09   \n",
       "2  https://www.theepochtimes.com/new-data-analysi...          0  1.603080e+09   \n",
       "3  https://www.reddit.com/r/sports/comments/jdgrk...          3  1.603080e+09   \n",
       "4  https://hotair.com/archives/karen-townsend/202...          3  1.603080e+09   \n",
       "\n",
       "  body     subreddit  \n",
       "0       Conservative  \n",
       "1       Conservative  \n",
       "2       Conservative  \n",
       "3       Conservative  \n",
       "4       Conservative  "
      ]
     },
     "execution_count": 26,
     "metadata": {},
     "output_type": "execute_result"
    }
   ],
   "source": [
    "df_final.head()"
   ]
  },
  {
   "cell_type": "code",
   "execution_count": 27,
   "metadata": {},
   "outputs": [
    {
     "data": {
      "text/plain": [
       "Conservative    980\n",
       "Progressive     978\n",
       "Name: subreddit, dtype: int64"
      ]
     },
     "execution_count": 27,
     "metadata": {},
     "output_type": "execute_result"
    }
   ],
   "source": [
    "df_final.subreddit.value_counts()"
   ]
  },
  {
   "cell_type": "markdown",
   "metadata": {},
   "source": [
    "The following lines of code were used sequentially to merge newly gathered data with data previously acquired."
   ]
  },
  {
   "cell_type": "code",
   "execution_count": 29,
   "metadata": {},
   "outputs": [],
   "source": [
    "#Read in old csv, concat old df with new, then delete duplicates\n",
    "#df_old = pd.read_csv('redditproject.csv')\n",
    "df_old = pd.read_csv('Data/redditprojectnew_fixed.csv')\n",
    "#df_old = pd.read_csv('Data/redditprojecttop_fixed.csv')\n",
    "#df_old = pd.read_csv('redditproject_cont.csv')"
   ]
  },
  {
   "cell_type": "code",
   "execution_count": 30,
   "metadata": {},
   "outputs": [
    {
     "data": {
      "text/html": [
       "<div>\n",
       "<style scoped>\n",
       "    .dataframe tbody tr th:only-of-type {\n",
       "        vertical-align: middle;\n",
       "    }\n",
       "\n",
       "    .dataframe tbody tr th {\n",
       "        vertical-align: top;\n",
       "    }\n",
       "\n",
       "    .dataframe thead th {\n",
       "        text-align: right;\n",
       "    }\n",
       "</style>\n",
       "<table border=\"1\" class=\"dataframe\">\n",
       "  <thead>\n",
       "    <tr style=\"text-align: right;\">\n",
       "      <th></th>\n",
       "      <th>title</th>\n",
       "      <th>score</th>\n",
       "      <th>id</th>\n",
       "      <th>url</th>\n",
       "      <th>comms_num</th>\n",
       "      <th>created</th>\n",
       "      <th>body</th>\n",
       "      <th>subreddit</th>\n",
       "    </tr>\n",
       "  </thead>\n",
       "  <tbody>\n",
       "    <tr>\n",
       "      <th>0</th>\n",
       "      <td>Thousands of Latinos Gather in Miami For Anti-...</td>\n",
       "      <td>3</td>\n",
       "      <td>jdnapu</td>\n",
       "      <td>https://www.thegatewaypundit.com/2020/10/thous...</td>\n",
       "      <td>1</td>\n",
       "      <td>1.603081e+09</td>\n",
       "      <td></td>\n",
       "      <td>Conservative</td>\n",
       "    </tr>\n",
       "    <tr>\n",
       "      <th>1</th>\n",
       "      <td>Camera Catches the Incredible Moment Dem Rep W...</td>\n",
       "      <td>3</td>\n",
       "      <td>jdn9ta</td>\n",
       "      <td>https://www.conservativenewsdaily.com/camera-c...</td>\n",
       "      <td>0</td>\n",
       "      <td>1.603080e+09</td>\n",
       "      <td></td>\n",
       "      <td>Conservative</td>\n",
       "    </tr>\n",
       "    <tr>\n",
       "      <th>2</th>\n",
       "      <td>New Data Analysis Finds 353 Counties With 1.8 ...</td>\n",
       "      <td>3</td>\n",
       "      <td>jdn6mm</td>\n",
       "      <td>https://www.theepochtimes.com/new-data-analysi...</td>\n",
       "      <td>0</td>\n",
       "      <td>1.603080e+09</td>\n",
       "      <td></td>\n",
       "      <td>Conservative</td>\n",
       "    </tr>\n",
       "    <tr>\n",
       "      <th>3</th>\n",
       "      <td>Meanwhile in New Zealand where their leadershi...</td>\n",
       "      <td>0</td>\n",
       "      <td>jdn5qc</td>\n",
       "      <td>https://www.reddit.com/r/sports/comments/jdgrk...</td>\n",
       "      <td>3</td>\n",
       "      <td>1.603080e+09</td>\n",
       "      <td></td>\n",
       "      <td>Conservative</td>\n",
       "    </tr>\n",
       "    <tr>\n",
       "      <th>4</th>\n",
       "      <td>Women's March sign: \"Trump is an unstable penis!\"</td>\n",
       "      <td>5</td>\n",
       "      <td>jdn59s</td>\n",
       "      <td>https://hotair.com/archives/karen-townsend/202...</td>\n",
       "      <td>3</td>\n",
       "      <td>1.603080e+09</td>\n",
       "      <td></td>\n",
       "      <td>Conservative</td>\n",
       "    </tr>\n",
       "  </tbody>\n",
       "</table>\n",
       "</div>"
      ],
      "text/plain": [
       "                                               title  score      id  \\\n",
       "0  Thousands of Latinos Gather in Miami For Anti-...      3  jdnapu   \n",
       "1  Camera Catches the Incredible Moment Dem Rep W...      3  jdn9ta   \n",
       "2  New Data Analysis Finds 353 Counties With 1.8 ...      3  jdn6mm   \n",
       "3  Meanwhile in New Zealand where their leadershi...      0  jdn5qc   \n",
       "4  Women's March sign: \"Trump is an unstable penis!\"      5  jdn59s   \n",
       "\n",
       "                                                 url  comms_num       created  \\\n",
       "0  https://www.thegatewaypundit.com/2020/10/thous...          1  1.603081e+09   \n",
       "1  https://www.conservativenewsdaily.com/camera-c...          0  1.603080e+09   \n",
       "2  https://www.theepochtimes.com/new-data-analysi...          0  1.603080e+09   \n",
       "3  https://www.reddit.com/r/sports/comments/jdgrk...          3  1.603080e+09   \n",
       "4  https://hotair.com/archives/karen-townsend/202...          3  1.603080e+09   \n",
       "\n",
       "  body     subreddit  \n",
       "0       Conservative  \n",
       "1       Conservative  \n",
       "2       Conservative  \n",
       "3       Conservative  \n",
       "4       Conservative  "
      ]
     },
     "execution_count": 30,
     "metadata": {},
     "output_type": "execute_result"
    }
   ],
   "source": [
    "df_final.head()"
   ]
  },
  {
   "cell_type": "code",
   "execution_count": 31,
   "metadata": {},
   "outputs": [
    {
     "data": {
      "text/html": [
       "<div>\n",
       "<style scoped>\n",
       "    .dataframe tbody tr th:only-of-type {\n",
       "        vertical-align: middle;\n",
       "    }\n",
       "\n",
       "    .dataframe tbody tr th {\n",
       "        vertical-align: top;\n",
       "    }\n",
       "\n",
       "    .dataframe thead th {\n",
       "        text-align: right;\n",
       "    }\n",
       "</style>\n",
       "<table border=\"1\" class=\"dataframe\">\n",
       "  <thead>\n",
       "    <tr style=\"text-align: right;\">\n",
       "      <th></th>\n",
       "      <th>title</th>\n",
       "      <th>score</th>\n",
       "      <th>id</th>\n",
       "      <th>url</th>\n",
       "      <th>comms_num</th>\n",
       "      <th>created</th>\n",
       "      <th>body</th>\n",
       "      <th>subreddit</th>\n",
       "      <th>gilded_user</th>\n",
       "    </tr>\n",
       "  </thead>\n",
       "  <tbody>\n",
       "    <tr>\n",
       "      <th>0</th>\n",
       "      <td>BLM, Antifa violently crash San Fran free spee...</td>\n",
       "      <td>7</td>\n",
       "      <td>jdf7ef</td>\n",
       "      <td>https://www.bizpacreview.com/2020/10/18/blm-an...</td>\n",
       "      <td>1</td>\n",
       "      <td>1.603052e+09</td>\n",
       "      <td>NaN</td>\n",
       "      <td>Conservative</td>\n",
       "      <td>0</td>\n",
       "    </tr>\n",
       "    <tr>\n",
       "      <th>1</th>\n",
       "      <td>Biden will 'make clear' his position on court ...</td>\n",
       "      <td>4</td>\n",
       "      <td>jdf5ue</td>\n",
       "      <td>https://www.foxnews.com/politics/biden-court-p...</td>\n",
       "      <td>2</td>\n",
       "      <td>1.603051e+09</td>\n",
       "      <td>NaN</td>\n",
       "      <td>Conservative</td>\n",
       "      <td>0</td>\n",
       "    </tr>\n",
       "    <tr>\n",
       "      <th>2</th>\n",
       "      <td>Pennsylvania Union Calls Out Joe Biden Lie: We...</td>\n",
       "      <td>18</td>\n",
       "      <td>jdf4rn</td>\n",
       "      <td>https://www.breitbart.com/politics/2020/10/17/...</td>\n",
       "      <td>1</td>\n",
       "      <td>1.603051e+09</td>\n",
       "      <td>NaN</td>\n",
       "      <td>Conservative</td>\n",
       "      <td>0</td>\n",
       "    </tr>\n",
       "    <tr>\n",
       "      <th>3</th>\n",
       "      <td>Giuliani: Computer shop owner who found allege...</td>\n",
       "      <td>8</td>\n",
       "      <td>jdf412</td>\n",
       "      <td>https://www.foxnews.com/politics/rudy-giuliani...</td>\n",
       "      <td>0</td>\n",
       "      <td>1.603051e+09</td>\n",
       "      <td>NaN</td>\n",
       "      <td>Conservative</td>\n",
       "      <td>0</td>\n",
       "    </tr>\n",
       "    <tr>\n",
       "      <th>4</th>\n",
       "      <td>Yes, The Hunter Biden Emails are Authentic</td>\n",
       "      <td>11</td>\n",
       "      <td>jdf09v</td>\n",
       "      <td>https://sonar21.com/yes-the-hunter-biden-email...</td>\n",
       "      <td>5</td>\n",
       "      <td>1.603051e+09</td>\n",
       "      <td>NaN</td>\n",
       "      <td>Conservative</td>\n",
       "      <td>0</td>\n",
       "    </tr>\n",
       "  </tbody>\n",
       "</table>\n",
       "</div>"
      ],
      "text/plain": [
       "                                               title  score      id  \\\n",
       "0  BLM, Antifa violently crash San Fran free spee...      7  jdf7ef   \n",
       "1  Biden will 'make clear' his position on court ...      4  jdf5ue   \n",
       "2  Pennsylvania Union Calls Out Joe Biden Lie: We...     18  jdf4rn   \n",
       "3  Giuliani: Computer shop owner who found allege...      8  jdf412   \n",
       "4         Yes, The Hunter Biden Emails are Authentic     11  jdf09v   \n",
       "\n",
       "                                                 url  comms_num       created  \\\n",
       "0  https://www.bizpacreview.com/2020/10/18/blm-an...          1  1.603052e+09   \n",
       "1  https://www.foxnews.com/politics/biden-court-p...          2  1.603051e+09   \n",
       "2  https://www.breitbart.com/politics/2020/10/17/...          1  1.603051e+09   \n",
       "3  https://www.foxnews.com/politics/rudy-giuliani...          0  1.603051e+09   \n",
       "4  https://sonar21.com/yes-the-hunter-biden-email...          5  1.603051e+09   \n",
       "\n",
       "  body     subreddit  gilded_user  \n",
       "0  NaN  Conservative            0  \n",
       "1  NaN  Conservative            0  \n",
       "2  NaN  Conservative            0  \n",
       "3  NaN  Conservative            0  \n",
       "4  NaN  Conservative            0  "
      ]
     },
     "execution_count": 31,
     "metadata": {},
     "output_type": "execute_result"
    }
   ],
   "source": [
    "df_old.head()"
   ]
  },
  {
   "cell_type": "code",
   "execution_count": 32,
   "metadata": {},
   "outputs": [
    {
     "data": {
      "text/plain": [
       "((1958, 8), (8709, 9))"
      ]
     },
     "execution_count": 32,
     "metadata": {},
     "output_type": "execute_result"
    }
   ],
   "source": [
    "df_final.shape, df_old.shape"
   ]
  },
  {
   "cell_type": "code",
   "execution_count": 33,
   "metadata": {},
   "outputs": [],
   "source": [
    "df_final['gilded_user'] = df_final.id.apply(lambda x :1 if x in cons_gilds or x in prog_gilds else 0)"
   ]
  },
  {
   "cell_type": "code",
   "execution_count": 34,
   "metadata": {},
   "outputs": [],
   "source": [
    "submission_df = pd.concat([df_final, df_old])\n",
    "#submission_df = df_final"
   ]
  },
  {
   "cell_type": "code",
   "execution_count": 35,
   "metadata": {},
   "outputs": [
    {
     "data": {
      "text/plain": [
       "(10667, 9)"
      ]
     },
     "execution_count": 35,
     "metadata": {},
     "output_type": "execute_result"
    }
   ],
   "source": [
    "submission_df.shape"
   ]
  },
  {
   "cell_type": "code",
   "execution_count": 36,
   "metadata": {},
   "outputs": [],
   "source": [
    "submission_df.drop_duplicates(keep = 'last', inplace = True)"
   ]
  },
  {
   "cell_type": "code",
   "execution_count": 37,
   "metadata": {},
   "outputs": [
    {
     "data": {
      "text/plain": [
       "(9612, 9)"
      ]
     },
     "execution_count": 37,
     "metadata": {},
     "output_type": "execute_result"
    }
   ],
   "source": [
    "submission_df.shape"
   ]
  },
  {
   "cell_type": "code",
   "execution_count": 38,
   "metadata": {},
   "outputs": [
    {
     "data": {
      "text/plain": [
       "Conservative    5343\n",
       "Progressive     4269\n",
       "Name: subreddit, dtype: int64"
      ]
     },
     "execution_count": 38,
     "metadata": {},
     "output_type": "execute_result"
    }
   ],
   "source": [
    "submission_df.subreddit.value_counts()"
   ]
  },
  {
   "cell_type": "code",
   "execution_count": 39,
   "metadata": {},
   "outputs": [
    {
     "data": {
      "text/plain": [
       "(8709, 9)"
      ]
     },
     "execution_count": 39,
     "metadata": {},
     "output_type": "execute_result"
    }
   ],
   "source": [
    "df_old.shape"
   ]
  },
  {
   "cell_type": "code",
   "execution_count": 40,
   "metadata": {},
   "outputs": [
    {
     "data": {
      "text/plain": [
       "title             0\n",
       "score             0\n",
       "id                0\n",
       "url               0\n",
       "comms_num         0\n",
       "created           0\n",
       "body           7397\n",
       "subreddit         0\n",
       "gilded_user       0\n",
       "dtype: int64"
      ]
     },
     "execution_count": 40,
     "metadata": {},
     "output_type": "execute_result"
    }
   ],
   "source": [
    "submission_df.isnull().sum()"
   ]
  },
  {
   "cell_type": "code",
   "execution_count": null,
   "metadata": {},
   "outputs": [],
   "source": [
    "count = 0\n",
    "for x in submission_df.id:\n",
    "    if x in cons_gilds or x in prog_gilds:\n",
    "        count += 1\n",
    "count"
   ]
  },
  {
   "cell_type": "code",
   "execution_count": 41,
   "metadata": {},
   "outputs": [
    {
     "data": {
      "text/plain": [
       "(9612, 9)"
      ]
     },
     "execution_count": 41,
     "metadata": {},
     "output_type": "execute_result"
    }
   ],
   "source": [
    "submission_df.shape"
   ]
  },
  {
   "cell_type": "code",
   "execution_count": 44,
   "metadata": {},
   "outputs": [
    {
     "data": {
      "text/plain": [
       "Conservative    5343\n",
       "Progressive     4269\n",
       "Name: subreddit, dtype: int64"
      ]
     },
     "execution_count": 44,
     "metadata": {},
     "output_type": "execute_result"
    }
   ],
   "source": [
    "submission_df.subreddit.value_counts()"
   ]
  },
  {
   "cell_type": "code",
   "execution_count": 45,
   "metadata": {},
   "outputs": [],
   "source": [
    "submission_df.to_csv('Data/redditprojectnew_fixed.csv', index = False) \n",
    "#submission_df.to_csv('Data/redditprojecttop_fixed.csv', index = False) \n",
    "#submission_df.to_csv('Data/redditproject_cont.csv', index = False)"
   ]
  },
  {
   "cell_type": "code",
   "execution_count": 46,
   "metadata": {},
   "outputs": [],
   "source": [
    "new = pd.read_csv('Data/redditprojectnew_fixed.csv')\n",
    "top = pd.read_csv('Data/redditprojecttop_fixed.csv')\n",
    "cont = pd.read_csv('Data/redditproject_cont.csv')"
   ]
  },
  {
   "cell_type": "code",
   "execution_count": 47,
   "metadata": {},
   "outputs": [
    {
     "name": "stdout",
     "output_type": "stream",
     "text": [
      "(9612, 9)\n",
      "(7520, 9)\n",
      "(3932, 9)\n"
     ]
    }
   ],
   "source": [
    "print(new.shape)\n",
    "print(top.shape)\n",
    "print(cont.shape)"
   ]
  },
  {
   "cell_type": "code",
   "execution_count": 60,
   "metadata": {},
   "outputs": [],
   "source": [
    "combined = pd.concat([new, top, cont])"
   ]
  },
  {
   "cell_type": "code",
   "execution_count": 61,
   "metadata": {},
   "outputs": [
    {
     "data": {
      "text/plain": [
       "Conservative    11095\n",
       "Progressive      9969\n",
       "Name: subreddit, dtype: int64"
      ]
     },
     "execution_count": 61,
     "metadata": {},
     "output_type": "execute_result"
    }
   ],
   "source": [
    "combined.subreddit.value_counts()"
   ]
  },
  {
   "cell_type": "code",
   "execution_count": 62,
   "metadata": {},
   "outputs": [
    {
     "data": {
      "text/plain": [
       "(21064, 9)"
      ]
     },
     "execution_count": 62,
     "metadata": {},
     "output_type": "execute_result"
    }
   ],
   "source": [
    "combined.shape"
   ]
  },
  {
   "cell_type": "code",
   "execution_count": 63,
   "metadata": {},
   "outputs": [],
   "source": [
    "combined.drop_duplicates(subset = ['title', 'id'], keep = 'last', inplace = True)"
   ]
  },
  {
   "cell_type": "code",
   "execution_count": 64,
   "metadata": {},
   "outputs": [
    {
     "data": {
      "text/plain": [
       "(5977, 9)"
      ]
     },
     "execution_count": 64,
     "metadata": {},
     "output_type": "execute_result"
    }
   ],
   "source": [
    "combined.shape"
   ]
  },
  {
   "cell_type": "code",
   "execution_count": 65,
   "metadata": {},
   "outputs": [
    {
     "data": {
      "text/html": [
       "<div>\n",
       "<style scoped>\n",
       "    .dataframe tbody tr th:only-of-type {\n",
       "        vertical-align: middle;\n",
       "    }\n",
       "\n",
       "    .dataframe tbody tr th {\n",
       "        vertical-align: top;\n",
       "    }\n",
       "\n",
       "    .dataframe thead th {\n",
       "        text-align: right;\n",
       "    }\n",
       "</style>\n",
       "<table border=\"1\" class=\"dataframe\">\n",
       "  <thead>\n",
       "    <tr style=\"text-align: right;\">\n",
       "      <th></th>\n",
       "      <th>title</th>\n",
       "      <th>score</th>\n",
       "      <th>id</th>\n",
       "      <th>url</th>\n",
       "      <th>comms_num</th>\n",
       "      <th>created</th>\n",
       "      <th>body</th>\n",
       "      <th>subreddit</th>\n",
       "      <th>gilded_user</th>\n",
       "    </tr>\n",
       "  </thead>\n",
       "  <tbody>\n",
       "    <tr>\n",
       "      <th>0</th>\n",
       "      <td>Thousands of Latinos Gather in Miami For Anti-...</td>\n",
       "      <td>3</td>\n",
       "      <td>jdnapu</td>\n",
       "      <td>https://www.thegatewaypundit.com/2020/10/thous...</td>\n",
       "      <td>1</td>\n",
       "      <td>1.603081e+09</td>\n",
       "      <td>NaN</td>\n",
       "      <td>Conservative</td>\n",
       "      <td>0</td>\n",
       "    </tr>\n",
       "    <tr>\n",
       "      <th>1</th>\n",
       "      <td>Camera Catches the Incredible Moment Dem Rep W...</td>\n",
       "      <td>3</td>\n",
       "      <td>jdn9ta</td>\n",
       "      <td>https://www.conservativenewsdaily.com/camera-c...</td>\n",
       "      <td>0</td>\n",
       "      <td>1.603080e+09</td>\n",
       "      <td>NaN</td>\n",
       "      <td>Conservative</td>\n",
       "      <td>0</td>\n",
       "    </tr>\n",
       "    <tr>\n",
       "      <th>2</th>\n",
       "      <td>New Data Analysis Finds 353 Counties With 1.8 ...</td>\n",
       "      <td>3</td>\n",
       "      <td>jdn6mm</td>\n",
       "      <td>https://www.theepochtimes.com/new-data-analysi...</td>\n",
       "      <td>0</td>\n",
       "      <td>1.603080e+09</td>\n",
       "      <td>NaN</td>\n",
       "      <td>Conservative</td>\n",
       "      <td>0</td>\n",
       "    </tr>\n",
       "    <tr>\n",
       "      <th>3</th>\n",
       "      <td>Meanwhile in New Zealand where their leadershi...</td>\n",
       "      <td>0</td>\n",
       "      <td>jdn5qc</td>\n",
       "      <td>https://www.reddit.com/r/sports/comments/jdgrk...</td>\n",
       "      <td>3</td>\n",
       "      <td>1.603080e+09</td>\n",
       "      <td>NaN</td>\n",
       "      <td>Conservative</td>\n",
       "      <td>0</td>\n",
       "    </tr>\n",
       "    <tr>\n",
       "      <th>4</th>\n",
       "      <td>Women's March sign: \"Trump is an unstable penis!\"</td>\n",
       "      <td>5</td>\n",
       "      <td>jdn59s</td>\n",
       "      <td>https://hotair.com/archives/karen-townsend/202...</td>\n",
       "      <td>3</td>\n",
       "      <td>1.603080e+09</td>\n",
       "      <td>NaN</td>\n",
       "      <td>Conservative</td>\n",
       "      <td>0</td>\n",
       "    </tr>\n",
       "  </tbody>\n",
       "</table>\n",
       "</div>"
      ],
      "text/plain": [
       "                                               title  score      id  \\\n",
       "0  Thousands of Latinos Gather in Miami For Anti-...      3  jdnapu   \n",
       "1  Camera Catches the Incredible Moment Dem Rep W...      3  jdn9ta   \n",
       "2  New Data Analysis Finds 353 Counties With 1.8 ...      3  jdn6mm   \n",
       "3  Meanwhile in New Zealand where their leadershi...      0  jdn5qc   \n",
       "4  Women's March sign: \"Trump is an unstable penis!\"      5  jdn59s   \n",
       "\n",
       "                                                 url  comms_num       created  \\\n",
       "0  https://www.thegatewaypundit.com/2020/10/thous...          1  1.603081e+09   \n",
       "1  https://www.conservativenewsdaily.com/camera-c...          0  1.603080e+09   \n",
       "2  https://www.theepochtimes.com/new-data-analysi...          0  1.603080e+09   \n",
       "3  https://www.reddit.com/r/sports/comments/jdgrk...          3  1.603080e+09   \n",
       "4  https://hotair.com/archives/karen-townsend/202...          3  1.603080e+09   \n",
       "\n",
       "  body     subreddit  gilded_user  \n",
       "0  NaN  Conservative            0  \n",
       "1  NaN  Conservative            0  \n",
       "2  NaN  Conservative            0  \n",
       "3  NaN  Conservative            0  \n",
       "4  NaN  Conservative            0  "
      ]
     },
     "execution_count": 65,
     "metadata": {},
     "output_type": "execute_result"
    }
   ],
   "source": [
    "combined.head()"
   ]
  },
  {
   "cell_type": "code",
   "execution_count": 66,
   "metadata": {},
   "outputs": [
    {
     "data": {
      "text/plain": [
       "0    5952\n",
       "1      25\n",
       "Name: gilded_user, dtype: int64"
      ]
     },
     "execution_count": 66,
     "metadata": {},
     "output_type": "execute_result"
    }
   ],
   "source": [
    "combined.gilded_user.value_counts()"
   ]
  },
  {
   "cell_type": "code",
   "execution_count": 67,
   "metadata": {},
   "outputs": [],
   "source": [
    "combined.reset_index(inplace = True)"
   ]
  },
  {
   "cell_type": "code",
   "execution_count": 68,
   "metadata": {},
   "outputs": [],
   "source": [
    "combined.drop(columns = 'index', inplace = True)"
   ]
  },
  {
   "cell_type": "code",
   "execution_count": 69,
   "metadata": {},
   "outputs": [
    {
     "data": {
      "text/plain": [
       "Conservative    0.511628\n",
       "Progressive     0.488372\n",
       "Name: subreddit, dtype: float64"
      ]
     },
     "execution_count": 69,
     "metadata": {},
     "output_type": "execute_result"
    }
   ],
   "source": [
    "combined.subreddit.value_counts(normalize = True)\n",
    "#This dataset is very close to balanced. However, over time, the conservative subreddit will likely begin to\n",
    "#grow at a faster rate. If this gets out of hand, run only samples from the progressive subreddit."
   ]
  },
  {
   "cell_type": "markdown",
   "metadata": {},
   "source": [
    "Since I am looking at *ideology* and not a politcal party, I will attempt to find a different left - leaning subreddit for a more fair analysis of two different political ideologies. Examining the progressive subreddit, it appears that the subreddit progressive is far more active, so I will take data from there from now on."
   ]
  },
  {
   "cell_type": "code",
   "execution_count": 70,
   "metadata": {},
   "outputs": [],
   "source": [
    "combined.to_csv('Data/redditproject.csv', index = False)"
   ]
  },
  {
   "cell_type": "code",
   "execution_count": 159,
   "metadata": {},
   "outputs": [
    {
     "data": {
      "text/html": [
       "<div>\n",
       "<style scoped>\n",
       "    .dataframe tbody tr th:only-of-type {\n",
       "        vertical-align: middle;\n",
       "    }\n",
       "\n",
       "    .dataframe tbody tr th {\n",
       "        vertical-align: top;\n",
       "    }\n",
       "\n",
       "    .dataframe thead th {\n",
       "        text-align: right;\n",
       "    }\n",
       "</style>\n",
       "<table border=\"1\" class=\"dataframe\">\n",
       "  <thead>\n",
       "    <tr style=\"text-align: right;\">\n",
       "      <th></th>\n",
       "      <th>title</th>\n",
       "      <th>score</th>\n",
       "      <th>id</th>\n",
       "      <th>url</th>\n",
       "      <th>comms_num</th>\n",
       "      <th>created</th>\n",
       "      <th>body</th>\n",
       "      <th>subreddit</th>\n",
       "      <th>gilded_user</th>\n",
       "    </tr>\n",
       "  </thead>\n",
       "  <tbody>\n",
       "    <tr>\n",
       "      <th>0</th>\n",
       "      <td>Thousands of Latinos Gather in Miami For Anti-...</td>\n",
       "      <td>3</td>\n",
       "      <td>jdnapu</td>\n",
       "      <td>https://www.thegatewaypundit.com/2020/10/thous...</td>\n",
       "      <td>1</td>\n",
       "      <td>1.603081e+09</td>\n",
       "      <td>NaN</td>\n",
       "      <td>Conservative</td>\n",
       "      <td>0</td>\n",
       "    </tr>\n",
       "    <tr>\n",
       "      <th>1</th>\n",
       "      <td>Camera Catches the Incredible Moment Dem Rep W...</td>\n",
       "      <td>3</td>\n",
       "      <td>jdn9ta</td>\n",
       "      <td>https://www.conservativenewsdaily.com/camera-c...</td>\n",
       "      <td>0</td>\n",
       "      <td>1.603080e+09</td>\n",
       "      <td>NaN</td>\n",
       "      <td>Conservative</td>\n",
       "      <td>0</td>\n",
       "    </tr>\n",
       "    <tr>\n",
       "      <th>2</th>\n",
       "      <td>New Data Analysis Finds 353 Counties With 1.8 ...</td>\n",
       "      <td>3</td>\n",
       "      <td>jdn6mm</td>\n",
       "      <td>https://www.theepochtimes.com/new-data-analysi...</td>\n",
       "      <td>0</td>\n",
       "      <td>1.603080e+09</td>\n",
       "      <td>NaN</td>\n",
       "      <td>Conservative</td>\n",
       "      <td>0</td>\n",
       "    </tr>\n",
       "  </tbody>\n",
       "</table>\n",
       "</div>"
      ],
      "text/plain": [
       "                                               title  score      id  \\\n",
       "0  Thousands of Latinos Gather in Miami For Anti-...      3  jdnapu   \n",
       "1  Camera Catches the Incredible Moment Dem Rep W...      3  jdn9ta   \n",
       "2  New Data Analysis Finds 353 Counties With 1.8 ...      3  jdn6mm   \n",
       "\n",
       "                                                 url  comms_num       created  \\\n",
       "0  https://www.thegatewaypundit.com/2020/10/thous...          1  1.603081e+09   \n",
       "1  https://www.conservativenewsdaily.com/camera-c...          0  1.603080e+09   \n",
       "2  https://www.theepochtimes.com/new-data-analysi...          0  1.603080e+09   \n",
       "\n",
       "  body     subreddit  gilded_user  \n",
       "0  NaN  Conservative            0  \n",
       "1  NaN  Conservative            0  \n",
       "2  NaN  Conservative            0  "
      ]
     },
     "execution_count": 159,
     "metadata": {},
     "output_type": "execute_result"
    }
   ],
   "source": [
    "test = pd.read_csv('Data/redditproject.csv')\n",
    "test.head(3)"
   ]
  },
  {
   "cell_type": "code",
   "execution_count": 72,
   "metadata": {},
   "outputs": [
    {
     "data": {
      "text/plain": [
       "count     5977.000000\n",
       "mean      1018.108583\n",
       "std       2097.166387\n",
       "min          0.000000\n",
       "25%          5.000000\n",
       "50%        100.000000\n",
       "75%        479.000000\n",
       "max      47729.000000\n",
       "Name: score, dtype: float64"
      ]
     },
     "execution_count": 72,
     "metadata": {},
     "output_type": "execute_result"
    }
   ],
   "source": [
    "test.score.describe()"
   ]
  },
  {
   "cell_type": "code",
   "execution_count": 78,
   "metadata": {},
   "outputs": [
    {
     "data": {
      "text/plain": [
       "count     5977.000000\n",
       "mean       145.481847\n",
       "std        446.988720\n",
       "min          0.000000\n",
       "25%          3.000000\n",
       "50%         15.000000\n",
       "75%        102.000000\n",
       "max      21909.000000\n",
       "Name: comms_num, dtype: float64"
      ]
     },
     "execution_count": 78,
     "metadata": {},
     "output_type": "execute_result"
    }
   ],
   "source": [
    "test.comms_num.describe()"
   ]
  },
  {
   "cell_type": "code",
   "execution_count": 73,
   "metadata": {},
   "outputs": [
    {
     "data": {
      "text/plain": [
       "781"
      ]
     },
     "execution_count": 73,
     "metadata": {},
     "output_type": "execute_result"
    }
   ],
   "source": [
    "len(test[test.score == 0]) #Hmmmm"
   ]
  },
  {
   "cell_type": "code",
   "execution_count": 74,
   "metadata": {},
   "outputs": [
    {
     "data": {
      "text/plain": [
       "(5977, 9)"
      ]
     },
     "execution_count": 74,
     "metadata": {},
     "output_type": "execute_result"
    }
   ],
   "source": [
    "test.shape"
   ]
  },
  {
   "cell_type": "code",
   "execution_count": 75,
   "metadata": {},
   "outputs": [
    {
     "data": {
      "text/plain": [
       "title             0\n",
       "score             0\n",
       "id                0\n",
       "url               0\n",
       "comms_num         0\n",
       "created           0\n",
       "body           5708\n",
       "subreddit         0\n",
       "gilded_user       0\n",
       "dtype: int64"
      ]
     },
     "execution_count": 75,
     "metadata": {},
     "output_type": "execute_result"
    }
   ],
   "source": [
    "test.isnull().sum()"
   ]
  },
  {
   "cell_type": "markdown",
   "metadata": {},
   "source": [
    "\"EDA\" discovered during data acquisition:\n",
    "Conservative posts more often that liberal, as collecting new data tends to involve more new conservative posts than progressive posts.\n",
    "\n",
    "On the other hand, progressive subreddit tends to downvote more, as the \"controversial\" data grows faster with progressive than conservative."
   ]
  },
  {
   "cell_type": "code",
   "execution_count": 108,
   "metadata": {},
   "outputs": [
    {
     "data": {
      "text/plain": [
       "(5977, 9)"
      ]
     },
     "execution_count": 108,
     "metadata": {},
     "output_type": "execute_result"
    }
   ],
   "source": [
    "test.shape"
   ]
  },
  {
   "cell_type": "code",
   "execution_count": 100,
   "metadata": {},
   "outputs": [],
   "source": [
    "commentalot = test.sort_values(by = 'comms_num', ascending = False)"
   ]
  },
  {
   "cell_type": "code",
   "execution_count": 114,
   "metadata": {},
   "outputs": [],
   "source": [
    "half_comments = commentalot[:len(commentalot) // 2]"
   ]
  },
  {
   "cell_type": "code",
   "execution_count": 118,
   "metadata": {},
   "outputs": [
    {
     "data": {
      "text/plain": [
       "(2988, 9)"
      ]
     },
     "execution_count": 118,
     "metadata": {},
     "output_type": "execute_result"
    }
   ],
   "source": [
    "half_comments.shape"
   ]
  },
  {
   "cell_type": "code",
   "execution_count": 117,
   "metadata": {},
   "outputs": [
    {
     "data": {
      "text/plain": [
       "Conservative    2056\n",
       "Progressive      932\n",
       "Name: subreddit, dtype: int64"
      ]
     },
     "execution_count": 117,
     "metadata": {},
     "output_type": "execute_result"
    }
   ],
   "source": [
    "half_comments.subreddit.value_counts()"
   ]
  },
  {
   "cell_type": "code",
   "execution_count": 96,
   "metadata": {},
   "outputs": [],
   "source": [
    "# submission = reddit.submission(id = 'j2bxs0')\n",
    "\n",
    "# for comment in submission.comments.list():\n",
    "#     print(comment.body)"
   ]
  },
  {
   "cell_type": "markdown",
   "metadata": {},
   "source": [
    "Below from [PRAW documentation on comment extration](https://praw.readthedocs.io/en/stable/tutorials/comments.html):"
   ]
  },
  {
   "cell_type": "code",
   "execution_count": 126,
   "metadata": {},
   "outputs": [],
   "source": [
    "#Commented out for now, this cell takes HOURS to run. Still, cool when it's acquired!\n",
    "# comments_for_df = []\n",
    "\n",
    "# for ids in half_comments.id:\n",
    "#     submission = reddit.submission(id = ids)\n",
    "#     entry = {}\n",
    "    \n",
    "#     entry['id'] = ids\n",
    "#     comms = []\n",
    "#     submission.comments.replace_more(limit=1)\n",
    "#     for comment in submission.comments.list():\n",
    "#         comms.append(comment.body)\n",
    "#     entry['comments'] = comms\n",
    "#     comments_for_df.append(entry)"
   ]
  },
  {
   "cell_type": "code",
   "execution_count": 129,
   "metadata": {},
   "outputs": [
    {
     "data": {
      "text/html": [
       "<div>\n",
       "<style scoped>\n",
       "    .dataframe tbody tr th:only-of-type {\n",
       "        vertical-align: middle;\n",
       "    }\n",
       "\n",
       "    .dataframe tbody tr th {\n",
       "        vertical-align: top;\n",
       "    }\n",
       "\n",
       "    .dataframe thead th {\n",
       "        text-align: right;\n",
       "    }\n",
       "</style>\n",
       "<table border=\"1\" class=\"dataframe\">\n",
       "  <thead>\n",
       "    <tr style=\"text-align: right;\">\n",
       "      <th></th>\n",
       "      <th>id</th>\n",
       "      <th>comments</th>\n",
       "    </tr>\n",
       "  </thead>\n",
       "  <tbody>\n",
       "    <tr>\n",
       "      <th>0</th>\n",
       "      <td>j2bxs0</td>\n",
       "      <td>[Tired of reporting this thread? Debate us on ...</td>\n",
       "    </tr>\n",
       "    <tr>\n",
       "      <th>1</th>\n",
       "      <td>ivh84e</td>\n",
       "      <td>[We are hosting a polite discussion of RBG and...</td>\n",
       "    </tr>\n",
       "    <tr>\n",
       "      <th>2</th>\n",
       "      <td>j3oh32</td>\n",
       "      <td>[Tired of reporting this thread? Debate us on ...</td>\n",
       "    </tr>\n",
       "    <tr>\n",
       "      <th>3</th>\n",
       "      <td>i0ltok</td>\n",
       "      <td>[Actual Title - **Donald Trump suggests delay ...</td>\n",
       "    </tr>\n",
       "    <tr>\n",
       "      <th>4</th>\n",
       "      <td>hi426n</td>\n",
       "      <td>[what the fuck is cumtown lmao, Glad to see Re...</td>\n",
       "    </tr>\n",
       "    <tr>\n",
       "      <th>...</th>\n",
       "      <td>...</td>\n",
       "      <td>...</td>\n",
       "    </tr>\n",
       "    <tr>\n",
       "      <th>2983</th>\n",
       "      <td>gdq38r</td>\n",
       "      <td>[We need some kind of law that ensures America...</td>\n",
       "    </tr>\n",
       "    <tr>\n",
       "      <th>2984</th>\n",
       "      <td>42d8yy</td>\n",
       "      <td>[&gt; Clinton has demonstrated that she is a thou...</td>\n",
       "    </tr>\n",
       "    <tr>\n",
       "      <th>2985</th>\n",
       "      <td>fuhnms</td>\n",
       "      <td>[And I'm OK with this except for the fact that...</td>\n",
       "    </tr>\n",
       "    <tr>\n",
       "      <th>2986</th>\n",
       "      <td>jd8y59</td>\n",
       "      <td>[Let Twitter censors. It only backfires as fas...</td>\n",
       "    </tr>\n",
       "    <tr>\n",
       "      <th>2987</th>\n",
       "      <td>jcdb4u</td>\n",
       "      <td>[Then those same people will ask \"Why are we s...</td>\n",
       "    </tr>\n",
       "  </tbody>\n",
       "</table>\n",
       "<p>2988 rows × 2 columns</p>\n",
       "</div>"
      ],
      "text/plain": [
       "          id                                           comments\n",
       "0     j2bxs0  [Tired of reporting this thread? Debate us on ...\n",
       "1     ivh84e  [We are hosting a polite discussion of RBG and...\n",
       "2     j3oh32  [Tired of reporting this thread? Debate us on ...\n",
       "3     i0ltok  [Actual Title - **Donald Trump suggests delay ...\n",
       "4     hi426n  [what the fuck is cumtown lmao, Glad to see Re...\n",
       "...      ...                                                ...\n",
       "2983  gdq38r  [We need some kind of law that ensures America...\n",
       "2984  42d8yy  [> Clinton has demonstrated that she is a thou...\n",
       "2985  fuhnms  [And I'm OK with this except for the fact that...\n",
       "2986  jd8y59  [Let Twitter censors. It only backfires as fas...\n",
       "2987  jcdb4u  [Then those same people will ask \"Why are we s...\n",
       "\n",
       "[2988 rows x 2 columns]"
      ]
     },
     "execution_count": 129,
     "metadata": {},
     "output_type": "execute_result"
    }
   ],
   "source": [
    "comments.comments"
   ]
  },
  {
   "cell_type": "code",
   "execution_count": 137,
   "metadata": {},
   "outputs": [
    {
     "data": {
      "text/html": [
       "<div>\n",
       "<style scoped>\n",
       "    .dataframe tbody tr th:only-of-type {\n",
       "        vertical-align: middle;\n",
       "    }\n",
       "\n",
       "    .dataframe tbody tr th {\n",
       "        vertical-align: top;\n",
       "    }\n",
       "\n",
       "    .dataframe thead th {\n",
       "        text-align: right;\n",
       "    }\n",
       "</style>\n",
       "<table border=\"1\" class=\"dataframe\">\n",
       "  <thead>\n",
       "    <tr style=\"text-align: right;\">\n",
       "      <th></th>\n",
       "      <th>id</th>\n",
       "      <th>comments</th>\n",
       "    </tr>\n",
       "  </thead>\n",
       "  <tbody>\n",
       "    <tr>\n",
       "      <th>0</th>\n",
       "      <td>j2bxs0</td>\n",
       "      <td>[Tired of reporting this thread? Debate us on ...</td>\n",
       "    </tr>\n",
       "    <tr>\n",
       "      <th>1</th>\n",
       "      <td>ivh84e</td>\n",
       "      <td>[We are hosting a polite discussion of RBG and...</td>\n",
       "    </tr>\n",
       "    <tr>\n",
       "      <th>2</th>\n",
       "      <td>j3oh32</td>\n",
       "      <td>[Tired of reporting this thread? Debate us on ...</td>\n",
       "    </tr>\n",
       "    <tr>\n",
       "      <th>3</th>\n",
       "      <td>i0ltok</td>\n",
       "      <td>[Actual Title - **Donald Trump suggests delay ...</td>\n",
       "    </tr>\n",
       "    <tr>\n",
       "      <th>4</th>\n",
       "      <td>hi426n</td>\n",
       "      <td>[what the fuck is cumtown lmao, Glad to see Re...</td>\n",
       "    </tr>\n",
       "  </tbody>\n",
       "</table>\n",
       "</div>"
      ],
      "text/plain": [
       "       id                                           comments\n",
       "0  j2bxs0  [Tired of reporting this thread? Debate us on ...\n",
       "1  ivh84e  [We are hosting a polite discussion of RBG and...\n",
       "2  j3oh32  [Tired of reporting this thread? Debate us on ...\n",
       "3  i0ltok  [Actual Title - **Donald Trump suggests delay ...\n",
       "4  hi426n  [what the fuck is cumtown lmao, Glad to see Re..."
      ]
     },
     "execution_count": 137,
     "metadata": {},
     "output_type": "execute_result"
    }
   ],
   "source": [
    "coments.head()"
   ]
  },
  {
   "cell_type": "code",
   "execution_count": 155,
   "metadata": {},
   "outputs": [
    {
     "data": {
      "text/html": [
       "<div>\n",
       "<style scoped>\n",
       "    .dataframe tbody tr th:only-of-type {\n",
       "        vertical-align: middle;\n",
       "    }\n",
       "\n",
       "    .dataframe tbody tr th {\n",
       "        vertical-align: top;\n",
       "    }\n",
       "\n",
       "    .dataframe thead th {\n",
       "        text-align: right;\n",
       "    }\n",
       "</style>\n",
       "<table border=\"1\" class=\"dataframe\">\n",
       "  <thead>\n",
       "    <tr style=\"text-align: right;\">\n",
       "      <th></th>\n",
       "      <th>title</th>\n",
       "      <th>score</th>\n",
       "      <th>id</th>\n",
       "      <th>url</th>\n",
       "      <th>comms_num</th>\n",
       "      <th>created</th>\n",
       "      <th>body</th>\n",
       "      <th>subreddit</th>\n",
       "      <th>gilded_user</th>\n",
       "    </tr>\n",
       "  </thead>\n",
       "  <tbody>\n",
       "    <tr>\n",
       "      <th>4144</th>\n",
       "      <td>Presidential Debate Thread - Day 1</td>\n",
       "      <td>481</td>\n",
       "      <td>j2bxs0</td>\n",
       "      <td>https://www.reddit.com/r/Conservative/comments...</td>\n",
       "      <td>21909</td>\n",
       "      <td>1.601455e+09</td>\n",
       "      <td>The first presidential debate between Presiden...</td>\n",
       "      <td>Conservative</td>\n",
       "      <td>0</td>\n",
       "    </tr>\n",
       "    <tr>\n",
       "      <th>2257</th>\n",
       "      <td>Justice Ruth Bader Ginsburg, Champion Of Gende...</td>\n",
       "      <td>18126</td>\n",
       "      <td>ivh84e</td>\n",
       "      <td>https://www.npr.org/2020/09/18/100306972/justi...</td>\n",
       "      <td>11061</td>\n",
       "      <td>1.600501e+09</td>\n",
       "      <td>NaN</td>\n",
       "      <td>Conservative</td>\n",
       "      <td>0</td>\n",
       "    </tr>\n",
       "  </tbody>\n",
       "</table>\n",
       "</div>"
      ],
      "text/plain": [
       "                                                  title  score      id  \\\n",
       "4144                 Presidential Debate Thread - Day 1    481  j2bxs0   \n",
       "2257  Justice Ruth Bader Ginsburg, Champion Of Gende...  18126  ivh84e   \n",
       "\n",
       "                                                    url  comms_num  \\\n",
       "4144  https://www.reddit.com/r/Conservative/comments...      21909   \n",
       "2257  https://www.npr.org/2020/09/18/100306972/justi...      11061   \n",
       "\n",
       "           created                                               body  \\\n",
       "4144  1.601455e+09  The first presidential debate between Presiden...   \n",
       "2257  1.600501e+09                                                NaN   \n",
       "\n",
       "         subreddit  gilded_user  \n",
       "4144  Conservative            0  \n",
       "2257  Conservative            0  "
      ]
     },
     "execution_count": 155,
     "metadata": {},
     "output_type": "execute_result"
    }
   ],
   "source": [
    "half_comments.head(2)"
   ]
  },
  {
   "cell_type": "code",
   "execution_count": 143,
   "metadata": {},
   "outputs": [],
   "source": [
    "left = test_df\n",
    "right = half_comments[['id', 'subreddit']]\n",
    "\n",
    "comments_subreddit = pd.merge(left, right, on = 'id')"
   ]
  },
  {
   "cell_type": "code",
   "execution_count": 157,
   "metadata": {},
   "outputs": [
    {
     "data": {
      "text/plain": [
       "Conservative    2056\n",
       "Progressive      932\n",
       "Name: subreddit, dtype: int64"
      ]
     },
     "execution_count": 157,
     "metadata": {},
     "output_type": "execute_result"
    }
   ],
   "source": [
    "half_comments.subreddit.value_counts()"
   ]
  },
  {
   "cell_type": "code",
   "execution_count": 158,
   "metadata": {},
   "outputs": [
    {
     "data": {
      "text/plain": [
       "Conservative    2056\n",
       "Progressive      932\n",
       "Name: subreddit, dtype: int64"
      ]
     },
     "execution_count": 158,
     "metadata": {},
     "output_type": "execute_result"
    }
   ],
   "source": [
    "comments_subreddit.subreddit.value_counts()"
   ]
  },
  {
   "cell_type": "code",
   "execution_count": 152,
   "metadata": {},
   "outputs": [],
   "source": [
    "comments_subreddit.to_csv('Data/comments.csv', index = False)"
   ]
  },
  {
   "cell_type": "code",
   "execution_count": 153,
   "metadata": {},
   "outputs": [],
   "source": [
    "last_test = pd.read_csv('Data/comments.csv')"
   ]
  },
  {
   "cell_type": "code",
   "execution_count": 154,
   "metadata": {},
   "outputs": [
    {
     "data": {
      "text/html": [
       "<div>\n",
       "<style scoped>\n",
       "    .dataframe tbody tr th:only-of-type {\n",
       "        vertical-align: middle;\n",
       "    }\n",
       "\n",
       "    .dataframe tbody tr th {\n",
       "        vertical-align: top;\n",
       "    }\n",
       "\n",
       "    .dataframe thead th {\n",
       "        text-align: right;\n",
       "    }\n",
       "</style>\n",
       "<table border=\"1\" class=\"dataframe\">\n",
       "  <thead>\n",
       "    <tr style=\"text-align: right;\">\n",
       "      <th></th>\n",
       "      <th>id</th>\n",
       "      <th>comments</th>\n",
       "      <th>subreddit</th>\n",
       "    </tr>\n",
       "  </thead>\n",
       "  <tbody>\n",
       "    <tr>\n",
       "      <th>0</th>\n",
       "      <td>j2bxs0</td>\n",
       "      <td>[\"Tired of reporting this thread? Debate us on...</td>\n",
       "      <td>Conservative</td>\n",
       "    </tr>\n",
       "    <tr>\n",
       "      <th>1</th>\n",
       "      <td>ivh84e</td>\n",
       "      <td>['We are hosting a polite discussion of RBG an...</td>\n",
       "      <td>Conservative</td>\n",
       "    </tr>\n",
       "    <tr>\n",
       "      <th>2</th>\n",
       "      <td>j3oh32</td>\n",
       "      <td>[\"Tired of reporting this thread? Debate us on...</td>\n",
       "      <td>Conservative</td>\n",
       "    </tr>\n",
       "    <tr>\n",
       "      <th>3</th>\n",
       "      <td>i0ltok</td>\n",
       "      <td>['Actual Title - **Donald Trump suggests delay...</td>\n",
       "      <td>Conservative</td>\n",
       "    </tr>\n",
       "    <tr>\n",
       "      <th>4</th>\n",
       "      <td>hi426n</td>\n",
       "      <td>['what the fuck is cumtown lmao', 'Glad to see...</td>\n",
       "      <td>Conservative</td>\n",
       "    </tr>\n",
       "  </tbody>\n",
       "</table>\n",
       "</div>"
      ],
      "text/plain": [
       "       id                                           comments     subreddit\n",
       "0  j2bxs0  [\"Tired of reporting this thread? Debate us on...  Conservative\n",
       "1  ivh84e  ['We are hosting a polite discussion of RBG an...  Conservative\n",
       "2  j3oh32  [\"Tired of reporting this thread? Debate us on...  Conservative\n",
       "3  i0ltok  ['Actual Title - **Donald Trump suggests delay...  Conservative\n",
       "4  hi426n  ['what the fuck is cumtown lmao', 'Glad to see...  Conservative"
      ]
     },
     "execution_count": 154,
     "metadata": {},
     "output_type": "execute_result"
    }
   ],
   "source": [
    "last_test.head()"
   ]
  },
  {
   "cell_type": "markdown",
   "metadata": {},
   "source": [
    "## Adding features to comments\n",
    "---\n",
    "Analysis of these scores will occur in the data analysis notebook: Here, they are merely being scored and added to the dataframe."
   ]
  },
  {
   "cell_type": "code",
   "execution_count": 3,
   "metadata": {},
   "outputs": [],
   "source": [
    "sentiment = SentimentIntensityAnalyzer()\n",
    "def get_sentiment(comment, ret_val = 'compounds'):\n",
    "    negs = []\n",
    "    posits = []\n",
    "    compounds = []\n",
    "    #go in order of pos[0] neg[1] and compound[3]\n",
    "    #BUT, I only want one at a time so I can apply to the df. So...\n",
    "    if ret_val == 'compounds':\n",
    "        comments = comment.split('\\\\')\n",
    "        for comms in comments:\n",
    "            #negs.append(sentiment.polarity_scores(comms))['neg']\n",
    "            #posits.append(sentiment.polarity_scores(comms))['pos']\n",
    "            #compound_score = sentiment.polarity_scores(comments[inds])['compound']\n",
    "            compounds.append(sentiment.polarity_scores(comms)['compound'])\n",
    "        return compounds\n",
    "    elif ret_val == 'negs':\n",
    "        comments = comment.split('\\\\')\n",
    "        for comms in comments:\n",
    "            #neg_score = \n",
    "            negs.append(sentiment.polarity_scores(comms)['neg'])\n",
    "            #posits.append(sentiment.polarity_scores(comms))['pos']\n",
    "            #compounds.append(sentiment.polarity_scores(comms))['compounds']\n",
    "        return negs\n",
    "    else:\n",
    "        comments = comment.split('\\\\')\n",
    "        for comms in comments:\n",
    "            #negs.append(sentiment.polarity_scores(comms))['neg']\n",
    "            posits.append(sentiment.polarity_scores(comms)['pos'])\n",
    "            #compounds.append(sentiment.polarity_scores(comms))['compounds']\n",
    "        return posits"
   ]
  },
  {
   "cell_type": "code",
   "execution_count": null,
   "metadata": {},
   "outputs": [],
   "source": [
    "test = comments.comments[0]\n",
    "test = test.split('\\\\')\n",
    "test[:2]\n",
    "how_to_list = []\n",
    "#thing = \n",
    "how_to_list.append(sentiment.polarity_scores(test[2])['compound'])\n",
    "thing = (sentiment.polarity_scores(test[5]))['compound']\n",
    "#thing\n",
    "how_to_list.append(thing)\n",
    "how_to_list"
   ]
  },
  {
   "cell_type": "code",
   "execution_count": null,
   "metadata": {},
   "outputs": [],
   "source": [
    "# #Only run this once, given time constraints, and then export the file so that the values remain in future.\n",
    "# comments['pos_scores'] = comments.comments.apply(lambda x: get_sentiment(x, 'pos'))\n",
    "# comments['neg_scores'] = comments.comments.apply(lambda x: get_sentiment(x, 'negs'))\n",
    "# comments['comp_scores'] = comments.comments.apply(lambda x: get_sentiment(x, 'compounds'))"
   ]
  },
  {
   "cell_type": "code",
   "execution_count": null,
   "metadata": {},
   "outputs": [],
   "source": [
    "# comments['pos_score_avg'] = comments.pos_scores.apply(lambda x: np.mean(x))\n",
    "# comments['pos_score_median'] = comments.pos_scores.apply(lambda x: np.median(x))\n",
    "\n",
    "# comments['neg_score_avg'] = comments.neg_scores.apply(lambda x: np.mean(x))\n",
    "# comments['neg_score_median'] = comments.neg_scores.apply(lambda x: np.median(x))\n",
    "\n",
    "# comments['comp_score_avg'] = comments.comp_scores.apply(lambda x: np.mean(x))\n",
    "# comments['comp_score_median'] = comments.comp_scores.apply(lambda x: np.median(x))"
   ]
  },
  {
   "cell_type": "code",
   "execution_count": null,
   "metadata": {},
   "outputs": [],
   "source": [
    "# comments.to_csv('Data/comments_clean.csv', index = False)\n",
    "\n",
    "# test = pd.read_csv('Data/comments_clean.csv')"
   ]
  },
  {
   "cell_type": "markdown",
   "metadata": {},
   "source": [
    "Leave it to Heather to show me a MUCH faster and better way to do this! Thanks for the local, I was stuck here until then."
   ]
  },
  {
   "cell_type": "code",
   "execution_count": 26,
   "metadata": {},
   "outputs": [],
   "source": [
    "comments = pd.read_csv('Data/comments_clean.csv')\n",
    "comments.drop(columns = 'Unnamed: 0', inplace = True)"
   ]
  },
  {
   "cell_type": "code",
   "execution_count": 27,
   "metadata": {},
   "outputs": [
    {
     "data": {
      "text/html": [
       "<div>\n",
       "<style scoped>\n",
       "    .dataframe tbody tr th:only-of-type {\n",
       "        vertical-align: middle;\n",
       "    }\n",
       "\n",
       "    .dataframe tbody tr th {\n",
       "        vertical-align: top;\n",
       "    }\n",
       "\n",
       "    .dataframe thead th {\n",
       "        text-align: right;\n",
       "    }\n",
       "</style>\n",
       "<table border=\"1\" class=\"dataframe\">\n",
       "  <thead>\n",
       "    <tr style=\"text-align: right;\">\n",
       "      <th></th>\n",
       "      <th>id</th>\n",
       "      <th>comments</th>\n",
       "      <th>subreddit</th>\n",
       "      <th>neg</th>\n",
       "      <th>neu</th>\n",
       "      <th>pos</th>\n",
       "      <th>compound</th>\n",
       "    </tr>\n",
       "  </thead>\n",
       "  <tbody>\n",
       "    <tr>\n",
       "      <th>0</th>\n",
       "      <td>j2bxs0</td>\n",
       "      <td>[\"Tired of reporting this thread? Debate us on...</td>\n",
       "      <td>Conservative</td>\n",
       "      <td>0.127</td>\n",
       "      <td>0.74</td>\n",
       "      <td>0.133</td>\n",
       "      <td>0.9907</td>\n",
       "    </tr>\n",
       "  </tbody>\n",
       "</table>\n",
       "</div>"
      ],
      "text/plain": [
       "       id                                           comments     subreddit  \\\n",
       "0  j2bxs0  [\"Tired of reporting this thread? Debate us on...  Conservative   \n",
       "\n",
       "     neg   neu    pos  compound  \n",
       "0  0.127  0.74  0.133    0.9907  "
      ]
     },
     "execution_count": 27,
     "metadata": {},
     "output_type": "execute_result"
    }
   ],
   "source": [
    "comments.head(1)"
   ]
  },
  {
   "cell_type": "code",
   "execution_count": 15,
   "metadata": {},
   "outputs": [
    {
     "name": "stdout",
     "output_type": "stream",
     "text": [
      "['i', 'me', 'my', 'myself', 'we', 'our', 'ours', 'ourselves', 'you', \"you're\", \"you've\", \"you'll\", \"you'd\", 'your', 'yours', 'yourself', 'yourselves', 'he', 'him', 'his', 'himself', 'she', \"she's\", 'her', 'hers', 'herself', 'it', \"it's\", 'its', 'itself', 'they', 'them', 'their', 'theirs', 'themselves', 'what', 'which', 'who', 'whom', 'this', 'that', \"that'll\", 'these', 'those', 'am', 'is', 'are', 'was', 'were', 'be', 'been', 'being', 'have', 'has', 'had', 'having', 'do', 'does', 'did', 'doing', 'a', 'an', 'the', 'and', 'but', 'if', 'or', 'because', 'as', 'until', 'while', 'of', 'at', 'by', 'for', 'with', 'about', 'against', 'between', 'into', 'through', 'during', 'before', 'after', 'above', 'below', 'to', 'from', 'up', 'down', 'in', 'out', 'on', 'off', 'over', 'under', 'again', 'further', 'then', 'once', 'here', 'there', 'when', 'where', 'why', 'how', 'all', 'any', 'both', 'each', 'few', 'more', 'most', 'other', 'some', 'such', 'no', 'nor', 'not', 'only', 'own', 'same', 'so', 'than', 'too', 'very', 's', 't', 'can', 'will', 'just', 'don', \"don't\", 'should', \"should've\", 'now', 'd', 'll', 'm', 'o', 're', 've', 'y', 'ain', 'aren', \"aren't\", 'couldn', \"couldn't\", 'didn', \"didn't\", 'doesn', \"doesn't\", 'hadn', \"hadn't\", 'hasn', \"hasn't\", 'haven', \"haven't\", 'isn', \"isn't\", 'ma', 'mightn', \"mightn't\", 'mustn', \"mustn't\", 'needn', \"needn't\", 'shan', \"shan't\", 'shouldn', \"shouldn't\", 'wasn', \"wasn't\", 'weren', \"weren't\", 'won', \"won't\", 'wouldn', \"wouldn't\"]\n"
     ]
    }
   ],
   "source": [
    "print(stopwords.words('english'))"
   ]
  },
  {
   "cell_type": "code",
   "execution_count": 28,
   "metadata": {},
   "outputs": [],
   "source": [
    "comments = comments[['id', 'comments', 'subreddit']]"
   ]
  },
  {
   "cell_type": "code",
   "execution_count": 29,
   "metadata": {},
   "outputs": [
    {
     "data": {
      "text/html": [
       "<div>\n",
       "<style scoped>\n",
       "    .dataframe tbody tr th:only-of-type {\n",
       "        vertical-align: middle;\n",
       "    }\n",
       "\n",
       "    .dataframe tbody tr th {\n",
       "        vertical-align: top;\n",
       "    }\n",
       "\n",
       "    .dataframe thead th {\n",
       "        text-align: right;\n",
       "    }\n",
       "</style>\n",
       "<table border=\"1\" class=\"dataframe\">\n",
       "  <thead>\n",
       "    <tr style=\"text-align: right;\">\n",
       "      <th></th>\n",
       "      <th>id</th>\n",
       "      <th>comments</th>\n",
       "      <th>subreddit</th>\n",
       "    </tr>\n",
       "  </thead>\n",
       "  <tbody>\n",
       "    <tr>\n",
       "      <th>0</th>\n",
       "      <td>j2bxs0</td>\n",
       "      <td>[\"Tired of reporting this thread? Debate us on...</td>\n",
       "      <td>Conservative</td>\n",
       "    </tr>\n",
       "    <tr>\n",
       "      <th>1</th>\n",
       "      <td>ivh84e</td>\n",
       "      <td>['We are hosting a polite discussion of RBG an...</td>\n",
       "      <td>Conservative</td>\n",
       "    </tr>\n",
       "    <tr>\n",
       "      <th>2</th>\n",
       "      <td>j3oh32</td>\n",
       "      <td>[\"Tired of reporting this thread? Debate us on...</td>\n",
       "      <td>Conservative</td>\n",
       "    </tr>\n",
       "    <tr>\n",
       "      <th>3</th>\n",
       "      <td>i0ltok</td>\n",
       "      <td>['Actual Title - **Donald Trump suggests delay...</td>\n",
       "      <td>Conservative</td>\n",
       "    </tr>\n",
       "    <tr>\n",
       "      <th>4</th>\n",
       "      <td>hi426n</td>\n",
       "      <td>['what the fuck is cumtown lmao', 'Glad to see...</td>\n",
       "      <td>Conservative</td>\n",
       "    </tr>\n",
       "  </tbody>\n",
       "</table>\n",
       "</div>"
      ],
      "text/plain": [
       "       id                                           comments     subreddit\n",
       "0  j2bxs0  [\"Tired of reporting this thread? Debate us on...  Conservative\n",
       "1  ivh84e  ['We are hosting a polite discussion of RBG an...  Conservative\n",
       "2  j3oh32  [\"Tired of reporting this thread? Debate us on...  Conservative\n",
       "3  i0ltok  ['Actual Title - **Donald Trump suggests delay...  Conservative\n",
       "4  hi426n  ['what the fuck is cumtown lmao', 'Glad to see...  Conservative"
      ]
     },
     "execution_count": 29,
     "metadata": {},
     "output_type": "execute_result"
    }
   ],
   "source": [
    "comments.head()"
   ]
  },
  {
   "cell_type": "code",
   "execution_count": 35,
   "metadata": {},
   "outputs": [],
   "source": [
    "tokened = word_tokenize(comments.comments[0])\n",
    "tokens_without_sw = [word for word in tokened if not word in stopwords.words('english')]"
   ]
  },
  {
   "cell_type": "code",
   "execution_count": 42,
   "metadata": {},
   "outputs": [
    {
     "data": {
      "text/html": [
       "<div>\n",
       "<style scoped>\n",
       "    .dataframe tbody tr th:only-of-type {\n",
       "        vertical-align: middle;\n",
       "    }\n",
       "\n",
       "    .dataframe tbody tr th {\n",
       "        vertical-align: top;\n",
       "    }\n",
       "\n",
       "    .dataframe thead th {\n",
       "        text-align: right;\n",
       "    }\n",
       "</style>\n",
       "<table border=\"1\" class=\"dataframe\">\n",
       "  <thead>\n",
       "    <tr style=\"text-align: right;\">\n",
       "      <th></th>\n",
       "      <th>neg</th>\n",
       "      <th>neu</th>\n",
       "      <th>pos</th>\n",
       "      <th>compound</th>\n",
       "      <th>comments</th>\n",
       "    </tr>\n",
       "  </thead>\n",
       "  <tbody>\n",
       "    <tr>\n",
       "      <th>0</th>\n",
       "      <td>0.162</td>\n",
       "      <td>0.652</td>\n",
       "      <td>0.186</td>\n",
       "      <td>0.9992</td>\n",
       "      <td>[\"Tired of reporting this thread? Debate us on...</td>\n",
       "    </tr>\n",
       "    <tr>\n",
       "      <th>1</th>\n",
       "      <td>0.166</td>\n",
       "      <td>0.556</td>\n",
       "      <td>0.277</td>\n",
       "      <td>1.0000</td>\n",
       "      <td>['We are hosting a polite discussion of RBG an...</td>\n",
       "    </tr>\n",
       "    <tr>\n",
       "      <th>2</th>\n",
       "      <td>0.161</td>\n",
       "      <td>0.607</td>\n",
       "      <td>0.232</td>\n",
       "      <td>1.0000</td>\n",
       "      <td>[\"Tired of reporting this thread? Debate us on...</td>\n",
       "    </tr>\n",
       "    <tr>\n",
       "      <th>3</th>\n",
       "      <td>0.173</td>\n",
       "      <td>0.686</td>\n",
       "      <td>0.141</td>\n",
       "      <td>-0.9998</td>\n",
       "      <td>['Actual Title - **Donald Trump suggests delay...</td>\n",
       "    </tr>\n",
       "    <tr>\n",
       "      <th>4</th>\n",
       "      <td>0.175</td>\n",
       "      <td>0.663</td>\n",
       "      <td>0.162</td>\n",
       "      <td>-0.9988</td>\n",
       "      <td>['what the fuck is cumtown lmao', 'Glad to see...</td>\n",
       "    </tr>\n",
       "  </tbody>\n",
       "</table>\n",
       "</div>"
      ],
      "text/plain": [
       "     neg    neu    pos  compound  \\\n",
       "0  0.162  0.652  0.186    0.9992   \n",
       "1  0.166  0.556  0.277    1.0000   \n",
       "2  0.161  0.607  0.232    1.0000   \n",
       "3  0.173  0.686  0.141   -0.9998   \n",
       "4  0.175  0.663  0.162   -0.9988   \n",
       "\n",
       "                                            comments  \n",
       "0  [\"Tired of reporting this thread? Debate us on...  \n",
       "1  ['We are hosting a polite discussion of RBG an...  \n",
       "2  [\"Tired of reporting this thread? Debate us on...  \n",
       "3  ['Actual Title - **Donald Trump suggests delay...  \n",
       "4  ['what the fuck is cumtown lmao', 'Glad to see...  "
      ]
     },
     "execution_count": 42,
     "metadata": {},
     "output_type": "execute_result"
    }
   ],
   "source": [
    "sia = SentimentIntensityAnalyzer()\n",
    "dicts = []    \n",
    "\n",
    "for comms in comments.comments:\n",
    "    tokenized = word_tokenize(comms)\n",
    "    cleaned = [word for word in tokenized if not word in stopwords.words('english')]\n",
    "    scores = sia.polarity_scores(' '.join(cleaned))\n",
    "    scores['comments'] = comms\n",
    "    dicts.append(scores)\n",
    "\n",
    "df = pd.DataFrame(dicts)\n",
    "df.head()"
   ]
  },
  {
   "cell_type": "code",
   "execution_count": 43,
   "metadata": {},
   "outputs": [],
   "source": [
    "df['id'] = comments.id"
   ]
  },
  {
   "cell_type": "code",
   "execution_count": 44,
   "metadata": {},
   "outputs": [
    {
     "data": {
      "text/html": [
       "<div>\n",
       "<style scoped>\n",
       "    .dataframe tbody tr th:only-of-type {\n",
       "        vertical-align: middle;\n",
       "    }\n",
       "\n",
       "    .dataframe tbody tr th {\n",
       "        vertical-align: top;\n",
       "    }\n",
       "\n",
       "    .dataframe thead th {\n",
       "        text-align: right;\n",
       "    }\n",
       "</style>\n",
       "<table border=\"1\" class=\"dataframe\">\n",
       "  <thead>\n",
       "    <tr style=\"text-align: right;\">\n",
       "      <th></th>\n",
       "      <th>id</th>\n",
       "      <th>comments</th>\n",
       "      <th>subreddit</th>\n",
       "    </tr>\n",
       "  </thead>\n",
       "  <tbody>\n",
       "    <tr>\n",
       "      <th>0</th>\n",
       "      <td>j2bxs0</td>\n",
       "      <td>[\"Tired of reporting this thread? Debate us on...</td>\n",
       "      <td>Conservative</td>\n",
       "    </tr>\n",
       "    <tr>\n",
       "      <th>1</th>\n",
       "      <td>ivh84e</td>\n",
       "      <td>['We are hosting a polite discussion of RBG an...</td>\n",
       "      <td>Conservative</td>\n",
       "    </tr>\n",
       "  </tbody>\n",
       "</table>\n",
       "</div>"
      ],
      "text/plain": [
       "       id                                           comments     subreddit\n",
       "0  j2bxs0  [\"Tired of reporting this thread? Debate us on...  Conservative\n",
       "1  ivh84e  ['We are hosting a polite discussion of RBG an...  Conservative"
      ]
     },
     "execution_count": 44,
     "metadata": {},
     "output_type": "execute_result"
    }
   ],
   "source": [
    "comments = comments[['id', 'comments', 'subreddit']]\n",
    "comments.head(2)"
   ]
  },
  {
   "cell_type": "code",
   "execution_count": 45,
   "metadata": {},
   "outputs": [
    {
     "data": {
      "text/html": [
       "<div>\n",
       "<style scoped>\n",
       "    .dataframe tbody tr th:only-of-type {\n",
       "        vertical-align: middle;\n",
       "    }\n",
       "\n",
       "    .dataframe tbody tr th {\n",
       "        vertical-align: top;\n",
       "    }\n",
       "\n",
       "    .dataframe thead th {\n",
       "        text-align: right;\n",
       "    }\n",
       "</style>\n",
       "<table border=\"1\" class=\"dataframe\">\n",
       "  <thead>\n",
       "    <tr style=\"text-align: right;\">\n",
       "      <th></th>\n",
       "      <th>neg</th>\n",
       "      <th>neu</th>\n",
       "      <th>pos</th>\n",
       "      <th>compound</th>\n",
       "      <th>comments</th>\n",
       "      <th>id</th>\n",
       "    </tr>\n",
       "  </thead>\n",
       "  <tbody>\n",
       "    <tr>\n",
       "      <th>0</th>\n",
       "      <td>0.162</td>\n",
       "      <td>0.652</td>\n",
       "      <td>0.186</td>\n",
       "      <td>0.9992</td>\n",
       "      <td>[\"Tired of reporting this thread? Debate us on...</td>\n",
       "      <td>j2bxs0</td>\n",
       "    </tr>\n",
       "    <tr>\n",
       "      <th>1</th>\n",
       "      <td>0.166</td>\n",
       "      <td>0.556</td>\n",
       "      <td>0.277</td>\n",
       "      <td>1.0000</td>\n",
       "      <td>['We are hosting a polite discussion of RBG an...</td>\n",
       "      <td>ivh84e</td>\n",
       "    </tr>\n",
       "    <tr>\n",
       "      <th>2</th>\n",
       "      <td>0.161</td>\n",
       "      <td>0.607</td>\n",
       "      <td>0.232</td>\n",
       "      <td>1.0000</td>\n",
       "      <td>[\"Tired of reporting this thread? Debate us on...</td>\n",
       "      <td>j3oh32</td>\n",
       "    </tr>\n",
       "    <tr>\n",
       "      <th>3</th>\n",
       "      <td>0.173</td>\n",
       "      <td>0.686</td>\n",
       "      <td>0.141</td>\n",
       "      <td>-0.9998</td>\n",
       "      <td>['Actual Title - **Donald Trump suggests delay...</td>\n",
       "      <td>i0ltok</td>\n",
       "    </tr>\n",
       "    <tr>\n",
       "      <th>4</th>\n",
       "      <td>0.175</td>\n",
       "      <td>0.663</td>\n",
       "      <td>0.162</td>\n",
       "      <td>-0.9988</td>\n",
       "      <td>['what the fuck is cumtown lmao', 'Glad to see...</td>\n",
       "      <td>hi426n</td>\n",
       "    </tr>\n",
       "  </tbody>\n",
       "</table>\n",
       "</div>"
      ],
      "text/plain": [
       "     neg    neu    pos  compound  \\\n",
       "0  0.162  0.652  0.186    0.9992   \n",
       "1  0.166  0.556  0.277    1.0000   \n",
       "2  0.161  0.607  0.232    1.0000   \n",
       "3  0.173  0.686  0.141   -0.9998   \n",
       "4  0.175  0.663  0.162   -0.9988   \n",
       "\n",
       "                                            comments      id  \n",
       "0  [\"Tired of reporting this thread? Debate us on...  j2bxs0  \n",
       "1  ['We are hosting a polite discussion of RBG an...  ivh84e  \n",
       "2  [\"Tired of reporting this thread? Debate us on...  j3oh32  \n",
       "3  ['Actual Title - **Donald Trump suggests delay...  i0ltok  \n",
       "4  ['what the fuck is cumtown lmao', 'Glad to see...  hi426n  "
      ]
     },
     "execution_count": 45,
     "metadata": {},
     "output_type": "execute_result"
    }
   ],
   "source": [
    "df.head()"
   ]
  },
  {
   "cell_type": "code",
   "execution_count": 46,
   "metadata": {},
   "outputs": [],
   "source": [
    "final_df = pd.merge(comments, df.drop(columns = 'comments'), on = 'id')"
   ]
  },
  {
   "cell_type": "code",
   "execution_count": 47,
   "metadata": {},
   "outputs": [
    {
     "data": {
      "text/html": [
       "<div>\n",
       "<style scoped>\n",
       "    .dataframe tbody tr th:only-of-type {\n",
       "        vertical-align: middle;\n",
       "    }\n",
       "\n",
       "    .dataframe tbody tr th {\n",
       "        vertical-align: top;\n",
       "    }\n",
       "\n",
       "    .dataframe thead th {\n",
       "        text-align: right;\n",
       "    }\n",
       "</style>\n",
       "<table border=\"1\" class=\"dataframe\">\n",
       "  <thead>\n",
       "    <tr style=\"text-align: right;\">\n",
       "      <th></th>\n",
       "      <th>id</th>\n",
       "      <th>comments</th>\n",
       "      <th>subreddit</th>\n",
       "      <th>neg</th>\n",
       "      <th>neu</th>\n",
       "      <th>pos</th>\n",
       "      <th>compound</th>\n",
       "    </tr>\n",
       "  </thead>\n",
       "  <tbody>\n",
       "    <tr>\n",
       "      <th>0</th>\n",
       "      <td>j2bxs0</td>\n",
       "      <td>[\"Tired of reporting this thread? Debate us on...</td>\n",
       "      <td>Conservative</td>\n",
       "      <td>0.162</td>\n",
       "      <td>0.652</td>\n",
       "      <td>0.186</td>\n",
       "      <td>0.9992</td>\n",
       "    </tr>\n",
       "    <tr>\n",
       "      <th>1</th>\n",
       "      <td>ivh84e</td>\n",
       "      <td>['We are hosting a polite discussion of RBG an...</td>\n",
       "      <td>Conservative</td>\n",
       "      <td>0.166</td>\n",
       "      <td>0.556</td>\n",
       "      <td>0.277</td>\n",
       "      <td>1.0000</td>\n",
       "    </tr>\n",
       "    <tr>\n",
       "      <th>2</th>\n",
       "      <td>j3oh32</td>\n",
       "      <td>[\"Tired of reporting this thread? Debate us on...</td>\n",
       "      <td>Conservative</td>\n",
       "      <td>0.161</td>\n",
       "      <td>0.607</td>\n",
       "      <td>0.232</td>\n",
       "      <td>1.0000</td>\n",
       "    </tr>\n",
       "    <tr>\n",
       "      <th>3</th>\n",
       "      <td>i0ltok</td>\n",
       "      <td>['Actual Title - **Donald Trump suggests delay...</td>\n",
       "      <td>Conservative</td>\n",
       "      <td>0.173</td>\n",
       "      <td>0.686</td>\n",
       "      <td>0.141</td>\n",
       "      <td>-0.9998</td>\n",
       "    </tr>\n",
       "    <tr>\n",
       "      <th>4</th>\n",
       "      <td>hi426n</td>\n",
       "      <td>['what the fuck is cumtown lmao', 'Glad to see...</td>\n",
       "      <td>Conservative</td>\n",
       "      <td>0.175</td>\n",
       "      <td>0.663</td>\n",
       "      <td>0.162</td>\n",
       "      <td>-0.9988</td>\n",
       "    </tr>\n",
       "  </tbody>\n",
       "</table>\n",
       "</div>"
      ],
      "text/plain": [
       "       id                                           comments     subreddit  \\\n",
       "0  j2bxs0  [\"Tired of reporting this thread? Debate us on...  Conservative   \n",
       "1  ivh84e  ['We are hosting a polite discussion of RBG an...  Conservative   \n",
       "2  j3oh32  [\"Tired of reporting this thread? Debate us on...  Conservative   \n",
       "3  i0ltok  ['Actual Title - **Donald Trump suggests delay...  Conservative   \n",
       "4  hi426n  ['what the fuck is cumtown lmao', 'Glad to see...  Conservative   \n",
       "\n",
       "     neg    neu    pos  compound  \n",
       "0  0.162  0.652  0.186    0.9992  \n",
       "1  0.166  0.556  0.277    1.0000  \n",
       "2  0.161  0.607  0.232    1.0000  \n",
       "3  0.173  0.686  0.141   -0.9998  \n",
       "4  0.175  0.663  0.162   -0.9988  "
      ]
     },
     "execution_count": 47,
     "metadata": {},
     "output_type": "execute_result"
    }
   ],
   "source": [
    "final_df.head()"
   ]
  },
  {
   "cell_type": "code",
   "execution_count": 48,
   "metadata": {},
   "outputs": [],
   "source": [
    "final_df.to_csv('Data/comments_clean.csv')"
   ]
  }
 ],
 "metadata": {
  "kernelspec": {
   "display_name": "Python 3",
   "language": "python",
   "name": "python3"
  },
  "language_info": {
   "codemirror_mode": {
    "name": "ipython",
    "version": 3
   },
   "file_extension": ".py",
   "mimetype": "text/x-python",
   "name": "python",
   "nbconvert_exporter": "python",
   "pygments_lexer": "ipython3",
   "version": "3.7.3"
  }
 },
 "nbformat": 4,
 "nbformat_minor": 4
}
